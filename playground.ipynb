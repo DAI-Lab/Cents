{
 "cells": [
  {
   "cell_type": "code",
   "execution_count": null,
   "metadata": {},
   "outputs": [],
   "source": [
    "import pandas as pd\n",
    "\n",
    "ny_path = \"/home/fuest/EnData/data/pecanstreet/15minute_data_newyork.csv\"\n",
    "austin_path = \"/home/fuest/EnData/data/pecanstreet/15minute_data_austin.csv\"\n",
    "cali_path = \"/home/fuest/EnData/data/pecanstreet/15minute_data_california.csv\"\n",
    "\n",
    "ny_data = pd.read_csv(ny_path)\n",
    "austin_data = pd.read_csv(austin_path)\n",
    "cali_data = pd.read_csv(cali_path)\n",
    "\n",
    "ny_user_ids = ny_data.dataid.unique()\n",
    "austin_user_ids = austin_data.dataid.unique()\n",
    "cali_user_ids = cali_data.dataid.unique()\n",
    "austin_user_ids"
   ]
  },
  {
   "cell_type": "code",
   "execution_count": null,
   "metadata": {},
   "outputs": [],
   "source": [
    "a = train_dataset.dataset.data\n",
    "a[(a.month==7) & (a.weekday==0)]"
   ]
  },
  {
   "cell_type": "code",
   "execution_count": null,
   "metadata": {},
   "outputs": [],
   "source": [
    "import pandas as pd\n",
    "import matplotlib.pyplot as plt\n",
    "import numpy as np\n",
    "import itertools\n",
    "from data_utils.dataset import PecanStreetDataset\n",
    "\n",
    "def plot_grid_profile(df, month, weekday):\n",
    "    # Filter the DataFrame based on the specified month and weekday\n",
    "    filtered_df = df[(df['month'] == month) & (df['weekday'] == weekday)]\n",
    "    \n",
    "    # Check if there are any rows after filtering\n",
    "    if filtered_df.empty:\n",
    "        print(f\"No data available for month {month} and weekday {weekday}.\")\n",
    "        return\n",
    "\n",
    "    # Convert the 'grid' column to a list of arrays\n",
    "    grid_values = filtered_df['grid'].apply(np.array).values\n",
    "\n",
    "    # Calculate the average grid values for each 15-minute interval across all filtered rows\n",
    "    averaged_grid = np.mean(np.vstack(grid_values), axis=0)\n",
    "\n",
    "    # Generate 96 timestamps for a day at 15-minute intervals\n",
    "    timestamps = pd.date_range(start='00:00', end='23:45', freq='15T').strftime('%H:%M')\n",
    "\n",
    "    # Ensure that the lengths match\n",
    "    if len(averaged_grid) != len(timestamps):\n",
    "        raise ValueError(f\"Length of averaged_grid ({len(averaged_grid)}) does not match length of timestamps ({len(timestamps)}).\")\n",
    "\n",
    "    # Plot the averaged grid profile\n",
    "    plt.figure(figsize=(12, 6))\n",
    "    plt.plot(timestamps, averaged_grid, marker='o')\n",
    "    plt.title(f'Grid Profile for Month {month} and Weekday {weekday}')\n",
    "    plt.xlabel('Time of Day')\n",
    "    plt.ylabel('Grid Values')\n",
    "    plt.xticks(rotation=45)\n",
    "    plt.grid(True)\n",
    "    plt.tight_layout()\n",
    "    plt.show()\n",
    "\n",
    "df = PecanStreetDataset(normalize=False).data\n",
    "plot_grid_profile(df, month=5, weekday=3)"
   ]
  },
  {
   "cell_type": "code",
   "execution_count": null,
   "metadata": {},
   "outputs": [],
   "source": [
    "import pandas as pd\n",
    "import matplotlib.pyplot as plt\n",
    "import numpy as np\n",
    "from data_utils.dataset import PecanStreetDataset\n",
    "\n",
    "def plot_grid_profile(df, month, weekday, dataid=None, ax=None):\n",
    "    filtered_df = df[(df['month'] == month) & (df['weekday'] == weekday)]\n",
    "    if dataid is not None:\n",
    "        filtered_df = filtered_df[filtered_df['dataid'] == dataid]\n",
    "    \n",
    "    if filtered_df.empty:\n",
    "        print(f\"No data available for month {month} and weekday {weekday} with dataid {dataid}.\")\n",
    "        return\n",
    "\n",
    "    grid_values = filtered_df['grid'].apply(np.array).values\n",
    "    averaged_grid = np.mean(np.vstack(grid_values), axis=0)\n",
    "    timestamps = pd.date_range(start='00:00', end='23:45', freq='15T').strftime('%H:%M')\n",
    "\n",
    "    if len(averaged_grid) != len(timestamps):\n",
    "        raise ValueError(f\"Length of averaged_grid ({len(averaged_grid)}) does not match length of timestamps ({len(timestamps)}).\")\n",
    "    \n",
    "    if ax is None:\n",
    "        plt.figure(figsize=(12, 6))\n",
    "        plt.plot(timestamps, averaged_grid, marker='o')\n",
    "        title = f'Grid Profile for Month {month} and Weekday {weekday}'\n",
    "        if dataid is not None:\n",
    "            title += f' (DataID: {dataid})'\n",
    "        plt.title(title)\n",
    "        plt.xlabel('Time of Day')\n",
    "        plt.ylabel('Grid Values')\n",
    "        plt.xticks(rotation=45)\n",
    "        plt.grid(True)\n",
    "        plt.tight_layout()\n",
    "        plt.show()\n",
    "    else:\n",
    "        ax.plot(timestamps, averaged_grid, marker='o', label=f'DataID: {dataid}')\n",
    "\n",
    "def plot_all_users_grid_profile(df, month, weekday):\n",
    "    unique_dataids = df['dataid'].unique()\n",
    "    fig, ax = plt.subplots(figsize=(12, 6))\n",
    "    for dataid in unique_dataids:\n",
    "        plot_grid_profile(df, month, weekday, dataid, ax=ax)\n",
    "    \n",
    "    title = f'Grid Profile for Month {month} and Weekday {weekday} for All Users'\n",
    "    plt.title(title)\n",
    "    plt.xlabel('Time of Day')\n",
    "    plt.ylabel('Grid Values')\n",
    "    plt.xticks(rotation=45)\n",
    "    plt.grid(True)\n",
    "    plt.legend()\n",
    "    plt.tight_layout()\n",
    "    plt.show()\n",
    "\n",
    "df = PecanStreetDataset(normalize=True).data\n",
    "plot_all_users_grid_profile(df, month=11, weekday=3)"
   ]
  },
  {
   "cell_type": "code",
   "execution_count": null,
   "metadata": {},
   "outputs": [],
   "source": [
    "def plot_daily_usage_profiles(df, dataid, month, weekday):\n",
    "    # Filter the DataFrame based on the specified user id, month, and weekday\n",
    "    filtered_df = df[(df['dataid'] == dataid) & (df['month'] == month) & (df['weekday'] == weekday)]\n",
    "    \n",
    "    # Check if there are any rows after filtering\n",
    "    if filtered_df.empty:\n",
    "        print(f\"No data available for user {dataid}, month {month}, and weekday {weekday}.\")\n",
    "        return\n",
    "\n",
    "    grid_values = filtered_df['grid'].apply(np.array).values\n",
    "    timestamps = pd.date_range(start='00:00', end='23:45', freq='15T').strftime('%H:%M')\n",
    "\n",
    "    plt.figure(figsize=(12, 6))\n",
    "    for i, daily_grid in enumerate(grid_values):\n",
    "        plt.plot(timestamps, daily_grid, marker='o', label=f'Day {i+1}')\n",
    "\n",
    "    title = f'Daily Usage Profiles for User {dataid}, Month {month}, Weekday {weekday}'\n",
    "    plt.title(title)\n",
    "    plt.xlabel('Time of Day')\n",
    "    plt.ylabel('Grid Values')\n",
    "    plt.xticks(rotation=45)\n",
    "    plt.grid(True)\n",
    "    plt.legend()\n",
    "    plt.tight_layout()\n",
    "    plt.show()\n",
    "\n",
    "df = PecanStreetDataset(normalize=False).data\n",
    "plot_daily_usage_profiles(df, dataid=3687, month=5, weekday=0)"
   ]
  },
  {
   "cell_type": "code",
   "execution_count": null,
   "metadata": {},
   "outputs": [],
   "source": [
    "import pandas as pd\n",
    "import numpy as np\n",
    "import torch\n",
    "import matplotlib.pyplot as plt\n",
    "\n",
    "from data_utils.dataset import PecanStreetDataset, prepare_dataloader, split_dataset\n",
    "from generator.acgan import ACGAN  \n",
    "\n",
    "device = torch.device(\"cuda\" if torch.cuda.is_available() else \"cpu\")\n",
    "\n",
    "data = PecanStreetDataset(normalize=True, user_id=27)\n",
    "train_dataset, val_dataset = split_dataset(data)\n",
    "model = ACGAN(\n",
    "    input_dim=1,\n",
    "    noise_dim=512,\n",
    "    embedding_dim=512,\n",
    "    output_dim=96,\n",
    "    learning_rate=1e-4,\n",
    "    weight_path=\"runs/\",\n",
    ")\n",
    "model.train(train_dataset, val_dataset, batch_size=32, num_epoch=100)\n",
    "\n",
    "def generate_and_plot_series(model, day_labels, month_labels, data, month, weekday):\n",
    "    series1 = model.generate([day_labels, month_labels]).squeeze()\n",
    "    series2 = model.generate([day_labels, month_labels]).squeeze()\n",
    "    series3 = model.generate([day_labels, month_labels]).squeeze()\n",
    "\n",
    "    timestamps = pd.date_range(start='00:00', periods=96, freq='15T').strftime('%H:%M')\n",
    "\n",
    "    filtered_data = data[(data['month'] == month) & (data['weekday'] == weekday)]\n",
    "    real_profiles = filtered_data.sample(3)['grid'].values\n",
    "    real_profile1 = np.array(real_profiles[0])\n",
    "    real_profile2 = np.array(real_profiles[1])\n",
    "    real_profile3 = np.array(real_profiles[2])\n",
    "\n",
    "    # Plot all series on the same plot\n",
    "    plt.figure(figsize=(15, 6))\n",
    "    plt.plot(timestamps, series1, label='Generated Profile 1')\n",
    "    plt.plot(timestamps, series2, label='Generated Profile 2')\n",
    "    plt.plot(timestamps, series3, label='Generated Profile 3')\n",
    "    plt.plot(timestamps, real_profile1, label='Real Profile 1', linestyle='--')\n",
    "    plt.plot(timestamps, real_profile2, label='Real Profile 2', linestyle='--')\n",
    "    plt.plot(timestamps, real_profile3, label='Real Profile 3', linestyle='--')\n",
    "    plt.xlabel('Time')\n",
    "    plt.ylabel('Value')\n",
    "    plt.title('Generated and Real Time Series Profiles')\n",
    "    plt.xticks(rotation=45)\n",
    "    plt.legend()\n",
    "    plt.grid(True)\n",
    "    plt.tight_layout()\n",
    "    plt.show()\n",
    "\n",
    "day_labels = torch.tensor([6]).to(device)\n",
    "month_labels = torch.tensor([5]).to(device)\n",
    "\n",
    "generate_and_plot_series(model, day_labels, month_labels, data.data, 5, 6)"
   ]
  },
  {
   "cell_type": "code",
   "execution_count": 2,
   "metadata": {},
   "outputs": [
    {
     "name": "stderr",
     "output_type": "stream",
     "text": [
      "Epoch 1: 100%|██████████| 9/9 [00:00<00:00, 13.84it/s]\n"
     ]
    },
    {
     "name": "stdout",
     "output_type": "stream",
     "text": [
      "Epoch [1/25], Mean MMD Loss: [0.02135648]\n"
     ]
    },
    {
     "name": "stderr",
     "output_type": "stream",
     "text": [
      "Epoch 2: 100%|██████████| 9/9 [00:00<00:00, 22.64it/s]\n"
     ]
    },
    {
     "name": "stdout",
     "output_type": "stream",
     "text": [
      "Epoch [2/25], Mean MMD Loss: [0.022359]\n"
     ]
    },
    {
     "name": "stderr",
     "output_type": "stream",
     "text": [
      "Epoch 3: 100%|██████████| 9/9 [00:00<00:00, 21.50it/s]\n"
     ]
    },
    {
     "name": "stdout",
     "output_type": "stream",
     "text": [
      "Epoch [3/25], Mean MMD Loss: [0.0231376]\n"
     ]
    },
    {
     "name": "stderr",
     "output_type": "stream",
     "text": [
      "Epoch 4: 100%|██████████| 9/9 [00:00<00:00, 22.12it/s]\n"
     ]
    },
    {
     "name": "stdout",
     "output_type": "stream",
     "text": [
      "Epoch [4/25], Mean MMD Loss: [0.02634294]\n"
     ]
    },
    {
     "name": "stderr",
     "output_type": "stream",
     "text": [
      "Epoch 5: 100%|██████████| 9/9 [00:00<00:00, 25.47it/s]\n"
     ]
    },
    {
     "name": "stdout",
     "output_type": "stream",
     "text": [
      "Epoch [5/25], Mean MMD Loss: [0.02827037]\n"
     ]
    },
    {
     "name": "stderr",
     "output_type": "stream",
     "text": [
      "Epoch 6: 100%|██████████| 9/9 [00:00<00:00, 22.63it/s]\n"
     ]
    },
    {
     "name": "stdout",
     "output_type": "stream",
     "text": [
      "Epoch [6/25], Mean MMD Loss: [0.03129256]\n"
     ]
    },
    {
     "name": "stderr",
     "output_type": "stream",
     "text": [
      "Epoch 7: 100%|██████████| 9/9 [00:00<00:00, 24.78it/s]\n"
     ]
    },
    {
     "name": "stdout",
     "output_type": "stream",
     "text": [
      "Epoch [7/25], Mean MMD Loss: [0.02662139]\n"
     ]
    },
    {
     "name": "stderr",
     "output_type": "stream",
     "text": [
      "Epoch 8: 100%|██████████| 9/9 [00:00<00:00, 24.61it/s]\n"
     ]
    },
    {
     "name": "stdout",
     "output_type": "stream",
     "text": [
      "Epoch [8/25], Mean MMD Loss: [0.0213123]\n"
     ]
    },
    {
     "name": "stderr",
     "output_type": "stream",
     "text": [
      "Epoch 9: 100%|██████████| 9/9 [00:00<00:00, 23.67it/s]\n"
     ]
    },
    {
     "name": "stdout",
     "output_type": "stream",
     "text": [
      "Epoch [9/25], Mean MMD Loss: [0.01865871]\n"
     ]
    },
    {
     "name": "stderr",
     "output_type": "stream",
     "text": [
      "Epoch 10: 100%|██████████| 9/9 [00:00<00:00, 27.16it/s]\n"
     ]
    },
    {
     "name": "stdout",
     "output_type": "stream",
     "text": [
      "Epoch [10/25], Mean MMD Loss: [0.01713818]\n"
     ]
    },
    {
     "name": "stderr",
     "output_type": "stream",
     "text": [
      "Epoch 11: 100%|██████████| 9/9 [00:00<00:00, 28.80it/s]\n"
     ]
    },
    {
     "name": "stdout",
     "output_type": "stream",
     "text": [
      "Epoch [11/25], Mean MMD Loss: [0.01149425]\n"
     ]
    },
    {
     "name": "stderr",
     "output_type": "stream",
     "text": [
      "Epoch 12: 100%|██████████| 9/9 [00:00<00:00, 22.90it/s]\n"
     ]
    },
    {
     "name": "stdout",
     "output_type": "stream",
     "text": [
      "Epoch [12/25], Mean MMD Loss: [0.01057291]\n"
     ]
    },
    {
     "name": "stderr",
     "output_type": "stream",
     "text": [
      "Epoch 13: 100%|██████████| 9/9 [00:00<00:00, 28.75it/s]\n"
     ]
    },
    {
     "name": "stdout",
     "output_type": "stream",
     "text": [
      "Epoch [13/25], Mean MMD Loss: [0.00902534]\n"
     ]
    },
    {
     "name": "stderr",
     "output_type": "stream",
     "text": [
      "Epoch 14: 100%|██████████| 9/9 [00:00<00:00, 23.72it/s]\n"
     ]
    },
    {
     "name": "stdout",
     "output_type": "stream",
     "text": [
      "Epoch [14/25], Mean MMD Loss: [0.00612254]\n"
     ]
    },
    {
     "name": "stderr",
     "output_type": "stream",
     "text": [
      "Epoch 15: 100%|██████████| 9/9 [00:00<00:00, 22.85it/s]\n"
     ]
    },
    {
     "name": "stdout",
     "output_type": "stream",
     "text": [
      "Epoch [15/25], Mean MMD Loss: [0.00590151]\n"
     ]
    },
    {
     "name": "stderr",
     "output_type": "stream",
     "text": [
      "Epoch 16: 100%|██████████| 9/9 [00:00<00:00, 23.64it/s]\n"
     ]
    },
    {
     "name": "stdout",
     "output_type": "stream",
     "text": [
      "Epoch [16/25], Mean MMD Loss: [0.00517305]\n"
     ]
    },
    {
     "name": "stderr",
     "output_type": "stream",
     "text": [
      "Epoch 17: 100%|██████████| 9/9 [00:00<00:00, 24.99it/s]\n"
     ]
    },
    {
     "name": "stdout",
     "output_type": "stream",
     "text": [
      "Epoch [17/25], Mean MMD Loss: [0.00470294]\n"
     ]
    },
    {
     "name": "stderr",
     "output_type": "stream",
     "text": [
      "Epoch 18: 100%|██████████| 9/9 [00:00<00:00, 20.87it/s]\n"
     ]
    },
    {
     "name": "stdout",
     "output_type": "stream",
     "text": [
      "Epoch [18/25], Mean MMD Loss: [0.00540652]\n"
     ]
    },
    {
     "name": "stderr",
     "output_type": "stream",
     "text": [
      "Epoch 19: 100%|██████████| 9/9 [00:00<00:00, 25.95it/s]\n"
     ]
    },
    {
     "name": "stdout",
     "output_type": "stream",
     "text": [
      "Epoch [19/25], Mean MMD Loss: [0.00610686]\n"
     ]
    },
    {
     "name": "stderr",
     "output_type": "stream",
     "text": [
      "Epoch 20: 100%|██████████| 9/9 [00:00<00:00, 25.31it/s]\n"
     ]
    },
    {
     "name": "stdout",
     "output_type": "stream",
     "text": [
      "Epoch [20/25], Mean MMD Loss: [0.00627095]\n"
     ]
    },
    {
     "name": "stderr",
     "output_type": "stream",
     "text": [
      "Epoch 21: 100%|██████████| 9/9 [00:00<00:00, 25.49it/s]\n"
     ]
    },
    {
     "name": "stdout",
     "output_type": "stream",
     "text": [
      "Epoch [21/25], Mean MMD Loss: [0.00681573]\n"
     ]
    },
    {
     "name": "stderr",
     "output_type": "stream",
     "text": [
      "Epoch 22: 100%|██████████| 9/9 [00:00<00:00, 27.36it/s]\n"
     ]
    },
    {
     "name": "stdout",
     "output_type": "stream",
     "text": [
      "Epoch [22/25], Mean MMD Loss: [0.00603556]\n"
     ]
    },
    {
     "name": "stderr",
     "output_type": "stream",
     "text": [
      "Epoch 23: 100%|██████████| 9/9 [00:00<00:00, 24.05it/s]\n"
     ]
    },
    {
     "name": "stdout",
     "output_type": "stream",
     "text": [
      "Epoch [23/25], Mean MMD Loss: [0.00697963]\n"
     ]
    },
    {
     "name": "stderr",
     "output_type": "stream",
     "text": [
      "Epoch 24: 100%|██████████| 9/9 [00:00<00:00, 27.77it/s]\n"
     ]
    },
    {
     "name": "stdout",
     "output_type": "stream",
     "text": [
      "Epoch [24/25], Mean MMD Loss: [0.00716923]\n"
     ]
    },
    {
     "name": "stderr",
     "output_type": "stream",
     "text": [
      "Epoch 25: 100%|██████████| 9/9 [00:00<00:00, 25.43it/s]\n"
     ]
    },
    {
     "name": "stdout",
     "output_type": "stream",
     "text": [
      "Epoch [25/25], Mean MMD Loss: [0.00643573]\n"
     ]
    }
   ],
   "source": [
    "import pandas as pd\n",
    "import torch\n",
    "import numpy as np\n",
    "import matplotlib.pyplot as plt\n",
    "\n",
    "from generator.acgan import ACGAN  \n",
    "from data_utils.dataset import PecanStreetDataset, split_dataset\n",
    "\n",
    "device = torch.device(\"cuda\" if torch.cuda.is_available() else \"cpu\")\n",
    "\n",
    "def plot_range_with_values(df, colname, values_to_compare, month, weekday):\n",
    "    values_to_compare = values_to_compare.cpu().numpy()\n",
    "    filtered_df = df[(df['month'] == month) & (df['weekday'] == weekday)]\n",
    "    array_data = np.array(filtered_df[colname].to_list())\n",
    "    min_values = np.min(array_data, axis=0)\n",
    "    max_values = np.max(array_data, axis=0)\n",
    "    timestamps = pd.date_range(start='00:00', end='23:45', freq='15T').strftime('%H:%M')\n",
    "    \n",
    "    plt.figure(figsize=(15, 7))\n",
    "    plt.fill_between(timestamps, min_values, max_values, color='gray', alpha=0.5, label='Range of values')\n",
    "    plt.plot(timestamps, values_to_compare, color='blue', marker='o', label='Values to Compare')\n",
    "    \n",
    "    plt.title('Range of Values and Comparison')\n",
    "    plt.xlabel('Time of Day')\n",
    "    plt.ylabel('Values')\n",
    "    plt.xticks(rotation=45)\n",
    "    plt.legend()\n",
    "    plt.tight_layout()\n",
    "    plt.show()\n",
    "\n",
    "data = PecanStreetDataset(normalize=True, user_id=1642, include_generation=False)\n",
    "dataset = data.data\n",
    "\n",
    "train_dataset, val_dataset = split_dataset(data)\n",
    "model = ACGAN(\n",
    "    input_dim=1,\n",
    "    noise_dim=512,\n",
    "    embedding_dim=512,\n",
    "    window_length=96,\n",
    "    learning_rate=1e-4,\n",
    "    weight_path=\"runs/\",\n",
    ")\n",
    "model.train(train_dataset, val_dataset, batch_size=32, num_epoch=25)"
   ]
  },
  {
   "cell_type": "code",
   "execution_count": 33,
   "metadata": {},
   "outputs": [
    {
     "data": {
      "text/html": [
       "<div>\n",
       "<style scoped>\n",
       "    .dataframe tbody tr th:only-of-type {\n",
       "        vertical-align: middle;\n",
       "    }\n",
       "\n",
       "    .dataframe tbody tr th {\n",
       "        vertical-align: top;\n",
       "    }\n",
       "\n",
       "    .dataframe thead th {\n",
       "        text-align: right;\n",
       "    }\n",
       "</style>\n",
       "<table border=\"1\" class=\"dataframe\">\n",
       "  <thead>\n",
       "    <tr style=\"text-align: right;\">\n",
       "      <th></th>\n",
       "      <th>month</th>\n",
       "      <th>weekday</th>\n",
       "      <th>date_day</th>\n",
       "      <th>generated_ts</th>\n",
       "    </tr>\n",
       "  </thead>\n",
       "  <tbody>\n",
       "    <tr>\n",
       "      <th>0</th>\n",
       "      <td>0</td>\n",
       "      <td>1</td>\n",
       "      <td>2</td>\n",
       "      <td>[0.59788185, 0.69071037, 0.83522326, 0.8451232...</td>\n",
       "    </tr>\n",
       "    <tr>\n",
       "      <th>1</th>\n",
       "      <td>0</td>\n",
       "      <td>1</td>\n",
       "      <td>9</td>\n",
       "      <td>[0.56822556, 0.6249575, 0.8038964, 0.8336613, ...</td>\n",
       "    </tr>\n",
       "    <tr>\n",
       "      <th>2</th>\n",
       "      <td>0</td>\n",
       "      <td>1</td>\n",
       "      <td>16</td>\n",
       "      <td>[0.5865626, 0.64459753, 0.80494887, 0.802107, ...</td>\n",
       "    </tr>\n",
       "    <tr>\n",
       "      <th>3</th>\n",
       "      <td>0</td>\n",
       "      <td>1</td>\n",
       "      <td>23</td>\n",
       "      <td>[0.58915174, 0.6456545, 0.8118451, 0.7998799, ...</td>\n",
       "    </tr>\n",
       "    <tr>\n",
       "      <th>4</th>\n",
       "      <td>0</td>\n",
       "      <td>1</td>\n",
       "      <td>30</td>\n",
       "      <td>[0.58009064, 0.6925638, 0.8383365, 0.83358705,...</td>\n",
       "    </tr>\n",
       "    <tr>\n",
       "      <th>...</th>\n",
       "      <td>...</td>\n",
       "      <td>...</td>\n",
       "      <td>...</td>\n",
       "      <td>...</td>\n",
       "    </tr>\n",
       "    <tr>\n",
       "      <th>350</th>\n",
       "      <td>11</td>\n",
       "      <td>3</td>\n",
       "      <td>27</td>\n",
       "      <td>[0.5859992, 0.6917852, 0.6920727, 0.62693155, ...</td>\n",
       "    </tr>\n",
       "    <tr>\n",
       "      <th>351</th>\n",
       "      <td>11</td>\n",
       "      <td>4</td>\n",
       "      <td>7</td>\n",
       "      <td>[0.657403, 0.77560043, 0.80194217, 0.8510719, ...</td>\n",
       "    </tr>\n",
       "    <tr>\n",
       "      <th>352</th>\n",
       "      <td>11</td>\n",
       "      <td>4</td>\n",
       "      <td>14</td>\n",
       "      <td>[0.656007, 0.80829847, 0.79520875, 0.86283946,...</td>\n",
       "    </tr>\n",
       "    <tr>\n",
       "      <th>353</th>\n",
       "      <td>11</td>\n",
       "      <td>4</td>\n",
       "      <td>21</td>\n",
       "      <td>[0.6426559, 0.7746102, 0.76724887, 0.8354615, ...</td>\n",
       "    </tr>\n",
       "    <tr>\n",
       "      <th>354</th>\n",
       "      <td>11</td>\n",
       "      <td>4</td>\n",
       "      <td>28</td>\n",
       "      <td>[0.63852733, 0.72639304, 0.8137176, 0.78653336...</td>\n",
       "    </tr>\n",
       "  </tbody>\n",
       "</table>\n",
       "<p>355 rows × 4 columns</p>\n",
       "</div>"
      ],
      "text/plain": [
       "     month  weekday  date_day  \\\n",
       "0        0        1         2   \n",
       "1        0        1         9   \n",
       "2        0        1        16   \n",
       "3        0        1        23   \n",
       "4        0        1        30   \n",
       "..     ...      ...       ...   \n",
       "350     11        3        27   \n",
       "351     11        4         7   \n",
       "352     11        4        14   \n",
       "353     11        4        21   \n",
       "354     11        4        28   \n",
       "\n",
       "                                          generated_ts  \n",
       "0    [0.59788185, 0.69071037, 0.83522326, 0.8451232...  \n",
       "1    [0.56822556, 0.6249575, 0.8038964, 0.8336613, ...  \n",
       "2    [0.5865626, 0.64459753, 0.80494887, 0.802107, ...  \n",
       "3    [0.58915174, 0.6456545, 0.8118451, 0.7998799, ...  \n",
       "4    [0.58009064, 0.6925638, 0.8383365, 0.83358705,...  \n",
       "..                                                 ...  \n",
       "350  [0.5859992, 0.6917852, 0.6920727, 0.62693155, ...  \n",
       "351  [0.657403, 0.77560043, 0.80194217, 0.8510719, ...  \n",
       "352  [0.656007, 0.80829847, 0.79520875, 0.86283946,...  \n",
       "353  [0.6426559, 0.7746102, 0.76724887, 0.8354615, ...  \n",
       "354  [0.63852733, 0.72639304, 0.8137176, 0.78653336...  \n",
       "\n",
       "[355 rows x 4 columns]"
      ]
     },
     "execution_count": 33,
     "metadata": {},
     "output_type": "execute_result"
    }
   ],
   "source": [
    "from datetime import datetime, timedelta\n",
    "import pandas as pd\n",
    "\n",
    "def generate_synthetic_data_for_eval(df: pd.DataFrame, model):\n",
    "    syn_ts = []\n",
    "\n",
    "    for _, row in df.iterrows():\n",
    "        month_label = torch.tensor([row[\"month\"]]).to(device)\n",
    "        day_label = torch.tensor([row[\"weekday\"]]).to(device)\n",
    "        gen_ts = model.generate([month_label, day_label]).squeeze().cpu().numpy()\n",
    "        syn_ts.append((row[\"month\"], row[\"weekday\"], row[\"date_day\"], gen_ts))\n",
    "\n",
    "    syn_ts_df = pd.DataFrame(syn_ts, columns=[\"month\", \"weekday\", \"date_day\", \"generated_ts\"])\n",
    "    #syn_ts_df[\"timestamps\"] = syn_ts_df.apply(lambda x: generate_timestamps_for_row(x), axis=1)\n",
    "\n",
    "    #generated_data_long_list = np.array([item for sublist in syn_ts_df['generated_ts'] for item in sublist]).reshape(-1, 1)\n",
    "    #generated_timetstamp_long_list = np.array([item for sublist in syn_ts_df['timestamps'] for item in sublist]).reshape(-1, 1)\n",
    "    #syn_array = np.concatenate((generated_data_long_list, generated_timetstamp_long_list), axis=1)\n",
    "\n",
    "    return syn_ts_df #syn_array\n",
    "\n",
    "def generate_timestamps_for_row(row, year=2023):\n",
    "    \"\"\"\n",
    "    Generate a list of timestamps for a given row based on month, weekday, and date_day.\n",
    "    \n",
    "    Args:\n",
    "        row (pd.Series): A row of the dataframe with columns 'month', 'weekday', 'date_day'.\n",
    "        year (int): The year for which to generate the dates. Default is 2023.\n",
    "        \n",
    "    Returns:\n",
    "        List[datetime]: A list of timestamps for each 15-minute interval of the specified day.\n",
    "    \"\"\"\n",
    "    month = row['month'] + 1  # Convert 0-based month to 1-based month\n",
    "    date_day = row['date_day']\n",
    "    base_date = datetime(2023, month, date_day)\n",
    "    \n",
    "    # Generate 15-minute interval timestamps for the entire day\n",
    "    timestamps = [base_date + timedelta(minutes=15*i) for i in range(96)]\n",
    "\n",
    "    return timestamps\n",
    "\n",
    "\n",
    "syn_dataframe = generate_synthetic_data_for_eval(dataset, model)\n",
    "syn_dataframe"
   ]
  },
  {
   "cell_type": "code",
   "execution_count": 37,
   "metadata": {},
   "outputs": [],
   "source": [
    "from eval.metrics import Context_FID\n",
    "import numpy as np\n",
    "\n",
    "ori = np.array(dataset[\"grid\"])\n",
    "ori = ori.reshape(ori.shape[0], 1, 1)\n",
    "\n",
    "syn = np.array(syn_dataframe[\"generated_ts\"])\n",
    "syn = syn.reshape(syn.shape[0], 1, 1)"
   ]
  },
  {
   "cell_type": "code",
   "execution_count": 39,
   "metadata": {},
   "outputs": [
    {
     "ename": "TypeError",
     "evalue": "ufunc 'isnan' not supported for the input types, and the inputs could not be safely coerced to any supported types according to the casting rule ''safe''",
     "output_type": "error",
     "traceback": [
      "\u001b[0;31m---------------------------------------------------------------------------\u001b[0m",
      "\u001b[0;31mTypeError\u001b[0m                                 Traceback (most recent call last)",
      "Cell \u001b[0;32mIn[39], line 1\u001b[0m\n\u001b[0;32m----> 1\u001b[0m fid \u001b[39m=\u001b[39m Context_FID(ori, syn)\n",
      "File \u001b[0;32m~/EnData/eval/metrics.py:92\u001b[0m, in \u001b[0;36mContext_FID\u001b[0;34m(ori_data, generated_data)\u001b[0m\n\u001b[1;32m     83\u001b[0m \u001b[39mdef\u001b[39;00m \u001b[39mContext_FID\u001b[39m(ori_data, generated_data):\n\u001b[1;32m     84\u001b[0m     model \u001b[39m=\u001b[39m TS2Vec(\n\u001b[1;32m     85\u001b[0m         input_dims\u001b[39m=\u001b[39mori_data\u001b[39m.\u001b[39mshape[\u001b[39m-\u001b[39m\u001b[39m1\u001b[39m],\n\u001b[1;32m     86\u001b[0m         device\u001b[39m=\u001b[39m\u001b[39m0\u001b[39m,\n\u001b[0;32m   (...)\u001b[0m\n\u001b[1;32m     90\u001b[0m         max_train_length\u001b[39m=\u001b[39m\u001b[39m3000\u001b[39m,\n\u001b[1;32m     91\u001b[0m     )\n\u001b[0;32m---> 92\u001b[0m     model\u001b[39m.\u001b[39;49mfit(ori_data, verbose\u001b[39m=\u001b[39;49m\u001b[39mFalse\u001b[39;49;00m)\n\u001b[1;32m     93\u001b[0m     ori_represenation \u001b[39m=\u001b[39m model\u001b[39m.\u001b[39mencode(ori_data, encoding_window\u001b[39m=\u001b[39m\u001b[39m\"\u001b[39m\u001b[39mfull_series\u001b[39m\u001b[39m\"\u001b[39m)\n\u001b[1;32m     94\u001b[0m     gen_represenation \u001b[39m=\u001b[39m model\u001b[39m.\u001b[39mencode(generated_data, encoding_window\u001b[39m=\u001b[39m\u001b[39m\"\u001b[39m\u001b[39mfull_series\u001b[39m\u001b[39m\"\u001b[39m)\n",
      "File \u001b[0;32m~/EnData/eval/t2vec/t2vec.py:97\u001b[0m, in \u001b[0;36mTS2Vec.fit\u001b[0;34m(self, train_data, n_epochs, n_iters, verbose)\u001b[0m\n\u001b[1;32m     92\u001b[0m     \u001b[39mif\u001b[39;00m sections \u001b[39m>\u001b[39m\u001b[39m=\u001b[39m \u001b[39m2\u001b[39m:\n\u001b[1;32m     93\u001b[0m         train_data \u001b[39m=\u001b[39m np\u001b[39m.\u001b[39mconcatenate(\n\u001b[1;32m     94\u001b[0m             split_with_nan(train_data, sections, axis\u001b[39m=\u001b[39m\u001b[39m1\u001b[39m), axis\u001b[39m=\u001b[39m\u001b[39m0\u001b[39m\n\u001b[1;32m     95\u001b[0m         )\n\u001b[0;32m---> 97\u001b[0m temporal_missing \u001b[39m=\u001b[39m np\u001b[39m.\u001b[39;49misnan(train_data)\u001b[39m.\u001b[39mall(axis\u001b[39m=\u001b[39m\u001b[39m-\u001b[39m\u001b[39m1\u001b[39m)\u001b[39m.\u001b[39many(axis\u001b[39m=\u001b[39m\u001b[39m0\u001b[39m)\n\u001b[1;32m     98\u001b[0m \u001b[39mif\u001b[39;00m temporal_missing[\u001b[39m0\u001b[39m] \u001b[39mor\u001b[39;00m temporal_missing[\u001b[39m-\u001b[39m\u001b[39m1\u001b[39m]:\n\u001b[1;32m     99\u001b[0m     train_data \u001b[39m=\u001b[39m centerize_vary_length_series(train_data)\n",
      "\u001b[0;31mTypeError\u001b[0m: ufunc 'isnan' not supported for the input types, and the inputs could not be safely coerced to any supported types according to the casting rule ''safe''"
     ]
    }
   ],
   "source": [
    "fid = Context_FID(ori, syn)"
   ]
  },
  {
   "cell_type": "code",
   "execution_count": 41,
   "metadata": {},
   "outputs": [
    {
     "data": {
      "text/plain": [
       "numpy.ndarray"
      ]
     },
     "execution_count": 41,
     "metadata": {},
     "output_type": "execute_result"
    }
   ],
   "source": [
    "type(syn)"
   ]
  },
  {
   "cell_type": "code",
   "execution_count": null,
   "metadata": {},
   "outputs": [],
   "source": []
  }
 ],
 "metadata": {
  "kernelspec": {
   "display_name": "venv",
   "language": "python",
   "name": "python3"
  },
  "language_info": {
   "codemirror_mode": {
    "name": "ipython",
    "version": 3
   },
   "file_extension": ".py",
   "mimetype": "text/x-python",
   "name": "python",
   "nbconvert_exporter": "python",
   "pygments_lexer": "ipython3",
   "version": "3.8.10"
  },
  "orig_nbformat": 4,
  "vscode": {
   "interpreter": {
    "hash": "5ea03d6e3b6d6622a3c4a21d472827b30621b9677ee232f2748a7c51f6a29b0a"
   }
  }
 },
 "nbformat": 4,
 "nbformat_minor": 2
}
