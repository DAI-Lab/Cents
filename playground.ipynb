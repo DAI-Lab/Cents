{
 "cells": [
  {
   "cell_type": "code",
   "execution_count": null,
   "metadata": {},
   "outputs": [],
   "source": [
    "import numpy as np\n",
    "import matplotlib.pyplot as plt\n",
    "\n",
    "\n",
    "# Generate a periodic time series for real data\n",
    "t = np.linspace(0, 2 * np.pi, 100)\n",
    "real_data = np.sin(t)\n",
    "\n",
    "# Calculate max and min values at each time point (for illustration, we use a constant offset)\n",
    "max_values = real_data + 0.5\n",
    "min_values = real_data - 0.5\n",
    "\n",
    "# Generate synthetic time series with similar periodicity\n",
    "synthetic_data = np.sin(t + 0.2)  # Shifted sine wave for illustration\n",
    "\n",
    "# Plotting the data\n",
    "plt.figure(figsize=(10, 6))\n",
    "plt.plot(t, max_values, label='Max values', color='red')\n",
    "plt.plot(t, min_values, label='Min values', color='blue')\n",
    "plt.fill_between(t, min_values, max_values, color='gray', alpha=0.3)\n",
    "plt.plot(t, synthetic_data, label='Synthetic data', color='orange')\n",
    "\n",
    "plt.xlabel('Time')\n",
    "plt.ylabel('Value')\n",
    "plt.title('Evaluation Metric for Synthetic Time Series')\n",
    "plt.legend()\n",
    "plt.show()\n"
   ]
  },
  {
   "cell_type": "code",
   "execution_count": null,
   "metadata": {},
   "outputs": [],
   "source": [
    "def dynamic_time_warping_dist(X, Y, norm=np.linalg.norm):\n",
    "    N = len(X)\n",
    "    M = len(Y)\n",
    "    D = np.zeros((N + 1, M + 1), dtype=float)\n",
    "    D[:, 0] = np.inf\n",
    "    D[0, :] = np.inf\n",
    "    D[0][0] = 0\n",
    "\n",
    "    for i in range(1, N + 1):\n",
    "        for j in range(1, M + 1):\n",
    "            m = min([D[i-1][j], D[i][j-1], D[i - 1][j - 1]])\n",
    "            D[i][j] = norm(X[i - 1] - Y[j-1]) + m\n",
    "    \n",
    "    return D, D[N][M]\n"
   ]
  },
  {
   "cell_type": "code",
   "execution_count": null,
   "metadata": {},
   "outputs": [],
   "source": [
    "import pandas as pd\n",
    "import matplotlib.pyplot as plt\n",
    "import numpy as np\n",
    "import itertools\n",
    "\n",
    "from data_utils.dataset import PecanStreetDataset, split_dataset\n",
    "\n",
    "def plot_grid_profile(df, month, weekday, user):\n",
    "    # Filter the DataFrame based on the specified month and weekday\n",
    "    filtered_df = df[(df['month'] == month) & (df['weekday'] == weekday) & (df[\"dataid\"] == user)]\n",
    "    \n",
    "    # Check if there are any rows after filtering\n",
    "    if filtered_df.empty:\n",
    "        print(f\"No data available for month {month} and weekday {weekday}.\")\n",
    "        return\n",
    "\n",
    "    # Convert the 'grid' column to a list of arrays\n",
    "    grid_values = filtered_df['grid'].apply(np.array).values\n",
    "\n",
    "    # Calculate the average grid values for each 15-minute interval across all filtered rows\n",
    "    averaged_grid = np.mean(np.vstack(grid_values), axis=0)\n",
    "\n",
    "    # Generate 96 timestamps for a day at 15-minute intervals\n",
    "    timestamps = pd.date_range(start='00:00', end='23:45', freq='15T').strftime('%H:%M')\n",
    "\n",
    "    # Ensure that the lengths match\n",
    "    if len(averaged_grid) != len(timestamps):\n",
    "        raise ValueError(f\"Length of averaged_grid ({len(averaged_grid)}) does not match length of timestamps ({len(timestamps)}).\")\n",
    "\n",
    "    # Plot the averaged grid profile\n",
    "    plt.figure(figsize=(12, 6))\n",
    "    plt.plot(timestamps, averaged_grid, marker='o')\n",
    "    plt.title(f'Grid Profile for Month {month} and Weekday {weekday}')\n",
    "    plt.xlabel('Time of Day')\n",
    "    plt.ylabel('Grid Values')\n",
    "    plt.xticks(rotation=45)\n",
    "    plt.grid(True)\n",
    "    plt.tight_layout()\n",
    "    plt.show()\n",
    "\n",
    "data = PecanStreetDataset(normalize=False)\n",
    "normalized_data = PecanStreetDataset(normalize=True)\n",
    "train_dataset, val_dataset = split_dataset(data)\n",
    "train_dataset_n, val_dataset_n = split_dataset(normalized_data)\n",
    "dataset = train_dataset.dataset.data\n",
    "dataset_n = train_dataset_n.dataset.data\n",
    "plot_grid_profile(dataset, 7, 0, 27)"
   ]
  },
  {
   "cell_type": "code",
   "execution_count": null,
   "metadata": {},
   "outputs": [],
   "source": [
    "from data_utils.dataset import PecanStreetDataset, split_dataset\n",
    "\n",
    "dataset = PecanStreetDataset(normalize=True)"
   ]
  },
  {
   "cell_type": "code",
   "execution_count": null,
   "metadata": {},
   "outputs": [],
   "source": [
    "import pandas as pd\n",
    "import matplotlib.pyplot as plt\n",
    "import numpy as np\n",
    "import itertools\n",
    "\n",
    "cali_file_path = \"/home/fuest/EnData/data/pecanstreet/15minute_data_california.csv\"\n",
    "ny_file_path = \"/home/fuest/EnData/data/pecanstreet/15minute_data_newyork.csv\"\n",
    "cali_data = pd.read_csv(cali_file_path)\n",
    "ny_data = pd.read_csv(ny_file_path)\n",
    "cali_data[\"local_15min\"] = pd.to_datetime(cali_data[\"local_15min\"], errors='coerce')\n",
    "ny_data[\"local_15min\"] = pd.to_datetime(ny_data[\"local_15min\"], errors='coerce')\n",
    "\n",
    "cali_data[cali_data[\"local_15min\"] == \"NaT\"]"
   ]
  },
  {
   "cell_type": "code",
   "execution_count": null,
   "metadata": {},
   "outputs": [],
   "source": [
    "# Function to identify and investigate problematic timestamps\n",
    "def find_problematic_timestamps(df, column):\n",
    "    # Try converting to datetime with error coercion\n",
    "    df['converted'] = pd.to_datetime(df[column], errors='coerce')\n",
    "    \n",
    "    # Identify rows where conversion failed\n",
    "    problematic_rows = df[df['converted'].isna()]\n",
    "    return df\n",
    "\n",
    "df = find_problematic_timestamps(cali_data, \"local_15min\")[[\"local_15min\", 'converted']]\n",
    "\n",
    "problematic_rows = df[df['converted'].isna()]\n",
    "\n",
    "# Attempt conversion with detailed error handling\n",
    "def safe_to_datetime(timestamps):\n",
    "    converted = []\n",
    "    for ts in timestamps:\n",
    "        try:\n",
    "            converted.append(pd.to_datetime(ts, error=\"coerce\"))\n",
    "        except Exception as e:\n",
    "            print(f\"Error converting timestamp {ts}: {e}\")\n",
    "            converted.append(pd.NaT)\n",
    "    return converted\n",
    "\n",
    "# Apply safe conversion\n",
    "df['converted'] = safe_to_datetime(df['local_15min'])"
   ]
  },
  {
   "cell_type": "code",
   "execution_count": null,
   "metadata": {},
   "outputs": [],
   "source": []
  }
 ],
 "metadata": {
  "kernelspec": {
   "display_name": "venv",
   "language": "python",
   "name": "python3"
  },
  "language_info": {
   "codemirror_mode": {
    "name": "ipython",
    "version": 3
   },
   "file_extension": ".py",
   "mimetype": "text/x-python",
   "name": "python",
   "nbconvert_exporter": "python",
   "pygments_lexer": "ipython3",
   "version": "3.8.10"
  },
  "orig_nbformat": 4,
  "vscode": {
   "interpreter": {
    "hash": "5ea03d6e3b6d6622a3c4a21d472827b30621b9677ee232f2748a7c51f6a29b0a"
   }
  }
 },
 "nbformat": 4,
 "nbformat_minor": 2
}
