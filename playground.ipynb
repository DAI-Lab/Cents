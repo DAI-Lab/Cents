{
 "cells": [
  {
   "cell_type": "code",
   "execution_count": 2,
   "metadata": {},
   "outputs": [],
   "source": [
    "import pandas as pd\n",
    "import numpy as np\n",
    "\n",
    "ny_path = \"/home/fuest/EnData/data/pecanstreet/15minute_data_newyork.csv\"\n",
    "austin_path = \"/home/fuest/EnData/data/pecanstreet/15minute_data_austin.csv\"\n",
    "cali_path = \"/home/fuest/EnData/data/pecanstreet/15minute_data_california.csv\"\n",
    "metadata_path = \"/home/fuest/EnData/data/pecanstreet/metadata.csv\"\n",
    "\n",
    "ny_data = pd.read_csv(ny_path)\n",
    "austin_data = pd.read_csv(austin_path)\n",
    "cali_data = pd.read_csv(cali_path)\n",
    "metadata = pd.read_csv(metadata_path)\n",
    "\n",
    "ny_user_ids = ny_data.dataid.unique().tolist()\n",
    "austin_user_ids = austin_data.dataid.unique().tolist()\n",
    "cali_user_ids = cali_data.dataid.unique().tolist()"
   ]
  },
  {
   "cell_type": "code",
   "execution_count": 3,
   "metadata": {},
   "outputs": [],
   "source": [
    "all_user_ids = cali_user_ids + austin_user_ids + ny_user_ids"
   ]
  },
  {
   "cell_type": "code",
   "execution_count": 4,
   "metadata": {},
   "outputs": [
    {
     "data": {
      "text/plain": [
       "yes    15\n",
       "Name: car1, dtype: int64"
      ]
     },
     "execution_count": 4,
     "metadata": {},
     "output_type": "execute_result"
    }
   ],
   "source": [
    "metadata = metadata.loc[metadata[\"dataid\"].isin(all_user_ids)].copy()\n",
    "metadata[\"car1\"].value_counts()"
   ]
  },
  {
   "cell_type": "code",
   "execution_count": null,
   "metadata": {},
   "outputs": [],
   "source": [
    "\n",
    "USER_IDs = [27,  142,  203,  387,  558,  661,  914,  950, 1222, 1240, 1417,\n",
    "       1450, 1524, 1642, 1731, 2096, 2318, 2335, 2358, 2361, 2606, 2818,\n",
    "       3000, 3039, 3456, 3488, 3517, 3538, 3687, 3700, 3864, 3938, 3996,\n",
    "       4031, 4283, 4373, 4495, 4550, 4767, 4934, 5058, 5587, 5679, 5746,\n",
    "       5938, 5982, 5997, 6139, 6377, 6547, 7062, 7114, 7536, 7719, 7800,\n",
    "       7901, 7951, 8061, 8156, 8342, 8386, 8565, 8574, 8733, 9019, 9053,\n",
    "       9160, 9213, 9278, 9612, 9775, 9836, 9922]\n"
   ]
  },
  {
   "cell_type": "code",
   "execution_count": 1,
   "metadata": {},
   "outputs": [
    {
     "ename": "KeyError",
     "evalue": "'dataid'",
     "output_type": "error",
     "traceback": [
      "\u001b[0;31m---------------------------------------------------------------------------\u001b[0m",
      "\u001b[0;31mKeyError\u001b[0m                                  Traceback (most recent call last)",
      "File \u001b[0;32m~/EnData/venv/lib/python3.8/site-packages/pandas/core/indexes/base.py:3802\u001b[0m, in \u001b[0;36mIndex.get_loc\u001b[0;34m(self, key, method, tolerance)\u001b[0m\n\u001b[1;32m   3801\u001b[0m \u001b[39mtry\u001b[39;00m:\n\u001b[0;32m-> 3802\u001b[0m     \u001b[39mreturn\u001b[39;00m \u001b[39mself\u001b[39;49m\u001b[39m.\u001b[39;49m_engine\u001b[39m.\u001b[39;49mget_loc(casted_key)\n\u001b[1;32m   3803\u001b[0m \u001b[39mexcept\u001b[39;00m \u001b[39mKeyError\u001b[39;00m \u001b[39mas\u001b[39;00m err:\n",
      "File \u001b[0;32m~/EnData/venv/lib/python3.8/site-packages/pandas/_libs/index.pyx:138\u001b[0m, in \u001b[0;36mpandas._libs.index.IndexEngine.get_loc\u001b[0;34m()\u001b[0m\n",
      "File \u001b[0;32m~/EnData/venv/lib/python3.8/site-packages/pandas/_libs/index.pyx:165\u001b[0m, in \u001b[0;36mpandas._libs.index.IndexEngine.get_loc\u001b[0;34m()\u001b[0m\n",
      "File \u001b[0;32mpandas/_libs/hashtable_class_helper.pxi:5745\u001b[0m, in \u001b[0;36mpandas._libs.hashtable.PyObjectHashTable.get_item\u001b[0;34m()\u001b[0m\n",
      "File \u001b[0;32mpandas/_libs/hashtable_class_helper.pxi:5753\u001b[0m, in \u001b[0;36mpandas._libs.hashtable.PyObjectHashTable.get_item\u001b[0;34m()\u001b[0m\n",
      "\u001b[0;31mKeyError\u001b[0m: 'dataid'",
      "\nThe above exception was the direct cause of the following exception:\n",
      "\u001b[0;31mKeyError\u001b[0m                                  Traceback (most recent call last)",
      "Cell \u001b[0;32mIn[1], line 3\u001b[0m\n\u001b[1;32m      1\u001b[0m \u001b[39mfrom\u001b[39;00m \u001b[39mdatasets\u001b[39;00m\u001b[39m.\u001b[39;00m\u001b[39mpecanstreet\u001b[39;00m \u001b[39mimport\u001b[39;00m PecanStreetDataset\n\u001b[0;32m----> 3\u001b[0m data \u001b[39m=\u001b[39m PecanStreetDataset(normalize\u001b[39m=\u001b[39;49m\u001b[39mTrue\u001b[39;49;00m, include_generation\u001b[39m=\u001b[39;49m\u001b[39mFalse\u001b[39;49;00m)\n\u001b[1;32m      4\u001b[0m user_data \u001b[39m=\u001b[39m data\u001b[39m.\u001b[39mcreate_user_dataset(\u001b[39m661\u001b[39m)\n",
      "File \u001b[0;32m~/EnData/datasets/pecanstreet.py:57\u001b[0m, in \u001b[0;36mPecanStreetDataset.__init__\u001b[0;34m(self, geography, config_path, normalize, threshold, include_generation)\u001b[0m\n\u001b[1;32m     55\u001b[0m \u001b[39mself\u001b[39m\u001b[39m.\u001b[39mname \u001b[39m=\u001b[39m \u001b[39m\"\u001b[39m\u001b[39mpecanstreet\u001b[39m\u001b[39m\"\u001b[39m\n\u001b[1;32m     56\u001b[0m \u001b[39mself\u001b[39m\u001b[39m.\u001b[39mstats \u001b[39m=\u001b[39m {}\n\u001b[0;32m---> 57\u001b[0m \u001b[39mself\u001b[39m\u001b[39m.\u001b[39mdata, \u001b[39mself\u001b[39m\u001b[39m.\u001b[39mmetadata, \u001b[39mself\u001b[39m\u001b[39m.\u001b[39muser_flags \u001b[39m=\u001b[39m \u001b[39mself\u001b[39;49m\u001b[39m.\u001b[39;49mload_and_preprocess_data()\n",
      "File \u001b[0;32m~/EnData/datasets/pecanstreet.py:88\u001b[0m, in \u001b[0;36mPecanStreetDataset.load_and_preprocess_data\u001b[0;34m(self)\u001b[0m\n\u001b[1;32m     86\u001b[0m metadata \u001b[39m=\u001b[39m pd\u001b[39m.\u001b[39mread_csv(\u001b[39mf\u001b[39m\u001b[39m\"\u001b[39m\u001b[39m/\u001b[39m\u001b[39m{\u001b[39;00mpath\u001b[39m}\u001b[39;00m\u001b[39mmetadata.csv\u001b[39m\u001b[39m\"\u001b[39m, usecols\u001b[39m=\u001b[39mmetadata_columns)\n\u001b[1;32m     87\u001b[0m data \u001b[39m=\u001b[39m \u001b[39mself\u001b[39m\u001b[39m.\u001b[39m_load_full_data(path, data_columns)\n\u001b[0;32m---> 88\u001b[0m user_flags \u001b[39m=\u001b[39m \u001b[39mself\u001b[39;49m\u001b[39m.\u001b[39;49m_set_user_flags(metadata, data)\n\u001b[1;32m     89\u001b[0m data \u001b[39m=\u001b[39m \u001b[39mself\u001b[39m\u001b[39m.\u001b[39m_preprocess_data(data)\n\u001b[1;32m     90\u001b[0m data \u001b[39m=\u001b[39m \u001b[39mself\u001b[39m\u001b[39m.\u001b[39m_add_metadata(metadata)\n",
      "File \u001b[0;32m~/EnData/datasets/pecanstreet.py:307\u001b[0m, in \u001b[0;36mPecanStreetDataset._set_user_flags\u001b[0;34m(metadata, data)\u001b[0m\n\u001b[1;32m    295\u001b[0m \u001b[39m@staticmethod\u001b[39m\n\u001b[1;32m    296\u001b[0m \u001b[39mdef\u001b[39;00m \u001b[39m_set_user_flags\u001b[39m(metadata: pd\u001b[39m.\u001b[39mDataFrame, data: pd\u001b[39m.\u001b[39mDataFrame) \u001b[39m-\u001b[39m\u001b[39m>\u001b[39m Dict[\u001b[39mint\u001b[39m, \u001b[39mbool\u001b[39m]:\n\u001b[1;32m    297\u001b[0m \u001b[39m    \u001b[39m\u001b[39m\"\"\"\u001b[39;00m\n\u001b[1;32m    298\u001b[0m \u001b[39m    Sets user flags indicating whether a user has solar generation data.\u001b[39;00m\n\u001b[1;32m    299\u001b[0m \n\u001b[0;32m   (...)\u001b[0m\n\u001b[1;32m    305\u001b[0m \u001b[39m        Dict[int, bool]: A dictionary mapping user IDs to a boolean indicating if they have solar data.\u001b[39;00m\n\u001b[1;32m    306\u001b[0m \u001b[39m    \"\"\"\u001b[39;00m\n\u001b[0;32m--> 307\u001b[0m     \u001b[39mreturn\u001b[39;00m {\n\u001b[1;32m    308\u001b[0m         user_id: metadata\u001b[39m.\u001b[39mloc[metadata[\u001b[39m\"\u001b[39m\u001b[39mdataid\u001b[39m\u001b[39m\"\u001b[39m] \u001b[39m==\u001b[39m user_id][\u001b[39m\"\u001b[39m\u001b[39msolar\u001b[39m\u001b[39m\"\u001b[39m]\u001b[39m.\u001b[39mnotna()\u001b[39m.\u001b[39many()\n\u001b[1;32m    309\u001b[0m         \u001b[39mfor\u001b[39;00m user_id \u001b[39min\u001b[39;00m data[\u001b[39m\"\u001b[39m\u001b[39mdataid\u001b[39m\u001b[39m\"\u001b[39m]\u001b[39m.\u001b[39munique()\n\u001b[1;32m    310\u001b[0m     }\n",
      "File \u001b[0;32m~/EnData/datasets/pecanstreet.py:308\u001b[0m, in \u001b[0;36m<dictcomp>\u001b[0;34m(.0)\u001b[0m\n\u001b[1;32m    295\u001b[0m \u001b[39m@staticmethod\u001b[39m\n\u001b[1;32m    296\u001b[0m \u001b[39mdef\u001b[39;00m \u001b[39m_set_user_flags\u001b[39m(metadata: pd\u001b[39m.\u001b[39mDataFrame, data: pd\u001b[39m.\u001b[39mDataFrame) \u001b[39m-\u001b[39m\u001b[39m>\u001b[39m Dict[\u001b[39mint\u001b[39m, \u001b[39mbool\u001b[39m]:\n\u001b[1;32m    297\u001b[0m \u001b[39m    \u001b[39m\u001b[39m\"\"\"\u001b[39;00m\n\u001b[1;32m    298\u001b[0m \u001b[39m    Sets user flags indicating whether a user has solar generation data.\u001b[39;00m\n\u001b[1;32m    299\u001b[0m \n\u001b[0;32m   (...)\u001b[0m\n\u001b[1;32m    305\u001b[0m \u001b[39m        Dict[int, bool]: A dictionary mapping user IDs to a boolean indicating if they have solar data.\u001b[39;00m\n\u001b[1;32m    306\u001b[0m \u001b[39m    \"\"\"\u001b[39;00m\n\u001b[1;32m    307\u001b[0m     \u001b[39mreturn\u001b[39;00m {\n\u001b[0;32m--> 308\u001b[0m         user_id: metadata\u001b[39m.\u001b[39mloc[metadata[\u001b[39m\"\u001b[39;49m\u001b[39mdataid\u001b[39;49m\u001b[39m\"\u001b[39;49m] \u001b[39m==\u001b[39m user_id][\u001b[39m\"\u001b[39m\u001b[39msolar\u001b[39m\u001b[39m\"\u001b[39m]\u001b[39m.\u001b[39mnotna()\u001b[39m.\u001b[39many()\n\u001b[1;32m    309\u001b[0m         \u001b[39mfor\u001b[39;00m user_id \u001b[39min\u001b[39;00m data[\u001b[39m\"\u001b[39m\u001b[39mdataid\u001b[39m\u001b[39m\"\u001b[39m]\u001b[39m.\u001b[39munique()\n\u001b[1;32m    310\u001b[0m     }\n",
      "File \u001b[0;32m~/EnData/venv/lib/python3.8/site-packages/pandas/core/frame.py:3807\u001b[0m, in \u001b[0;36mDataFrame.__getitem__\u001b[0;34m(self, key)\u001b[0m\n\u001b[1;32m   3805\u001b[0m \u001b[39mif\u001b[39;00m \u001b[39mself\u001b[39m\u001b[39m.\u001b[39mcolumns\u001b[39m.\u001b[39mnlevels \u001b[39m>\u001b[39m \u001b[39m1\u001b[39m:\n\u001b[1;32m   3806\u001b[0m     \u001b[39mreturn\u001b[39;00m \u001b[39mself\u001b[39m\u001b[39m.\u001b[39m_getitem_multilevel(key)\n\u001b[0;32m-> 3807\u001b[0m indexer \u001b[39m=\u001b[39m \u001b[39mself\u001b[39;49m\u001b[39m.\u001b[39;49mcolumns\u001b[39m.\u001b[39;49mget_loc(key)\n\u001b[1;32m   3808\u001b[0m \u001b[39mif\u001b[39;00m is_integer(indexer):\n\u001b[1;32m   3809\u001b[0m     indexer \u001b[39m=\u001b[39m [indexer]\n",
      "File \u001b[0;32m~/EnData/venv/lib/python3.8/site-packages/pandas/core/indexes/base.py:3804\u001b[0m, in \u001b[0;36mIndex.get_loc\u001b[0;34m(self, key, method, tolerance)\u001b[0m\n\u001b[1;32m   3802\u001b[0m     \u001b[39mreturn\u001b[39;00m \u001b[39mself\u001b[39m\u001b[39m.\u001b[39m_engine\u001b[39m.\u001b[39mget_loc(casted_key)\n\u001b[1;32m   3803\u001b[0m \u001b[39mexcept\u001b[39;00m \u001b[39mKeyError\u001b[39;00m \u001b[39mas\u001b[39;00m err:\n\u001b[0;32m-> 3804\u001b[0m     \u001b[39mraise\u001b[39;00m \u001b[39mKeyError\u001b[39;00m(key) \u001b[39mfrom\u001b[39;00m \u001b[39merr\u001b[39;00m\n\u001b[1;32m   3805\u001b[0m \u001b[39mexcept\u001b[39;00m \u001b[39mTypeError\u001b[39;00m:\n\u001b[1;32m   3806\u001b[0m     \u001b[39m# If we have a listlike key, _check_indexing_error will raise\u001b[39;00m\n\u001b[1;32m   3807\u001b[0m     \u001b[39m#  InvalidIndexError. Otherwise we fall through and re-raise\u001b[39;00m\n\u001b[1;32m   3808\u001b[0m     \u001b[39m#  the TypeError.\u001b[39;00m\n\u001b[1;32m   3809\u001b[0m     \u001b[39mself\u001b[39m\u001b[39m.\u001b[39m_check_indexing_error(key)\n",
      "\u001b[0;31mKeyError\u001b[0m: 'dataid'"
     ]
    }
   ],
   "source": [
    "from datasets.pecanstreet import PecanStreetDataset\n",
    "\n",
    "data = PecanStreetDataset(normalize=True, include_generation=False)\n",
    "user_data = data.create_user_dataset(661)"
   ]
  },
  {
   "cell_type": "code",
   "execution_count": null,
   "metadata": {},
   "outputs": [],
   "source": []
  }
 ],
 "metadata": {
  "kernelspec": {
   "display_name": "venv",
   "language": "python",
   "name": "python3"
  },
  "language_info": {
   "codemirror_mode": {
    "name": "ipython",
    "version": 3
   },
   "file_extension": ".py",
   "mimetype": "text/x-python",
   "name": "python",
   "nbconvert_exporter": "python",
   "pygments_lexer": "ipython3",
   "version": "3.8.10"
  },
  "orig_nbformat": 4,
  "vscode": {
   "interpreter": {
    "hash": "5ea03d6e3b6d6622a3c4a21d472827b30621b9677ee232f2748a7c51f6a29b0a"
   }
  }
 },
 "nbformat": 4,
 "nbformat_minor": 2
}
