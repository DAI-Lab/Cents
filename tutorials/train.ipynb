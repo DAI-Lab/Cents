{
 "cells": [
  {
   "cell_type": "code",
   "execution_count": null,
   "metadata": {},
   "outputs": [],
   "source": [
    "import sys\n",
    "from pathlib import Path\n",
    "\n",
    "script_dir = Path().resolve()\n",
    "root_dir = (script_dir.parent)\n",
    "sys.path.append(str(root_dir))\n",
    "\n",
    "import pandas as pd\n",
    "import numpy as np\n",
    "\n",
    "from datasets.pecanstreet import PecanStreetDataset\n",
    "from datasets.openpower import OpenPowerDataset\n",
    "from datasets.timeseries_dataset import TimeSeriesDataset\n",
    "from EnData.endata.data_generator import DataGenerator"
   ]
  },
  {
   "attachments": {},
   "cell_type": "markdown",
   "metadata": {},
   "source": [
    "## Training a model from scratch ##\n",
    "\n",
    "To train your own model from scratch, the ` DataGenerator ` class provides a simple implementation. Simply define your dataset and a ` DataGenerator ` object, and call the ` DataGenerator ` 's ` fit() ` method as follows:"
   ]
  },
  {
   "cell_type": "code",
   "execution_count": null,
   "metadata": {},
   "outputs": [],
   "source": [
    "generator = DataGenerator(model_name=\"acgan\")"
   ]
  },
  {
   "attachments": {},
   "cell_type": "markdown",
   "metadata": {},
   "source": [
    "## Training a model on custom data ##\n",
    "\n",
    "When creating a custom time series dataset class for use with EnData, the class must inherit from the provided `TimeSeriesDataset` base class. The `TimeSeriesDataset` class provides a robust and modular framework for handling wide-format time series data. Custom implementations only need to define the `_preprocess_data` method, which is an abstract method in the base class.\n",
    "\n",
    "### Responsibilities of `_preprocess_data`\n",
    "\n",
    "- Preprocess raw input data into a DataFrame that satisfies the expected structure.\n",
    "- Ensure time series columns contain arrays of the correct sequence length (`seq_len`).\n",
    "- Add any additional columns, such as entity identifiers or conditioning variables.\n",
    "\n",
    "### Benefits of the Base Class\n",
    "\n",
    "- **Normalization and Scaling:** Automatically handles standardization and min-max scaling.\n",
    "- **Conditioning Variables:** Provides support for encoding and managing conditioning variables.\n",
    "- **Time Series Merging and Splitting:** Facilitates operations to merge multiple time series columns into a single multidimensional array and split them back when needed.\n",
    "- **Data Transformation:** Includes functions for inverse transformations to revert normalized data to its original scale.\n",
    "\n",
    "---\n",
    "\n",
    "### Expected Input DataFrame Structure\n",
    "\n",
    "The input to the `TimeSeriesDataset` class must adhere to the following structure:\n",
    "\n",
    "| **Column Name**       | **Description**                                                                                     |\n",
    "|------------------------|-----------------------------------------------------------------------------------------------------|\n",
    "| `timeseries_col1`      | A column containing arrays of length `seq_len` (after preprocessing) representing the first dimension of the time series. |\n",
    "| `timeseries_col2`      | A column containing arrays of length `seq_len` (after preprocessing) representing the second dimension of the time series.|\n",
    "| `entity_column`        | A column containing unique identifiers for each entity (e.g., user, household, or device ID).       |\n",
    "| `conditioning_var1`    | An (optional) static or numeric conditioning variable (e.g., categorical or continuous feature).                |\n",
    "| `conditioning_var2`    | Further (optional) static or numeric conditioning variables.                                                    |\n",
    "\n",
    "- The `time_series_column_names` parameter specifies which columns are part of the time series.\n",
    "- The `entity_column_name` parameter identifies the column containing unique entity IDs.\n",
    "- The `conditioning_var_column_names` parameter defines additional conditioning variables.\n",
    "\n",
    "---"
   ]
  },
  {
   "cell_type": "code",
   "execution_count": null,
   "metadata": {},
   "outputs": [],
   "source": [
    "class CustomTimeSeriesDataset(TimeSeriesDataset):\n",
    "    \"\"\"\n",
    "    A custom TimeSeriesDataset implementation for handling toy data.\n",
    "\n",
    "    Input data structure:\n",
    "    - time_series_col1, time_series_col2: Time series data with arrays of length seq_len.\n",
    "    - entity_id: Unique identifier for each entity.\n",
    "    - static_conditioning: Categorical or numeric conditioning variable.\n",
    "    \"\"\"\n",
    "    def __init__(\n",
    "        self,\n",
    "        data: pd.DataFrame,\n",
    "        seq_len: int = 16,\n",
    "        normalize: bool = True,\n",
    "        scale: bool = True,\n",
    "    ):\n",
    "        entity_column_name = \"entity_id\"\n",
    "        time_series_column_names = [\"time_series_col1\", \"time_series_col2\"]\n",
    "        conditioning_var_column_names = [\"conditioning_var\"]\n",
    "\n",
    "        super().__init__(\n",
    "            data=data,\n",
    "            entity_column_name=entity_column_name,\n",
    "            time_series_column_names=time_series_column_names,\n",
    "            conditioning_var_column_names=conditioning_var_column_names,\n",
    "            seq_len=seq_len,\n",
    "            normalize=normalize,\n",
    "            scale=scale,\n",
    "        )\n",
    "\n",
    "    def _preprocess_data(self, data: pd.DataFrame) -> pd.DataFrame:\n",
    "        \"\"\"\n",
    "        Preprocesses the raw input data to ensure it conforms to the expected format.\n",
    "\n",
    "        - Ensures time series columns contain arrays of length seq_len.\n",
    "        - Ensures all required columns are present.\n",
    "\n",
    "        Args:\n",
    "            data (pd.DataFrame): The raw input data.\n",
    "\n",
    "        Returns:\n",
    "            pd.DataFrame: The preprocessed data.\n",
    "        \"\"\"\n",
    "        required_columns = [\"entity_id\", \"time_series_col1\", \"time_series_col2\", \"conditioning_var\"]\n",
    "        for col in required_columns:\n",
    "            if col not in data.columns:\n",
    "                raise ValueError(f\"Missing required column: {col}\")\n",
    "\n",
    "        for col in [\"time_series_col1\", \"time_series_col2\"]:\n",
    "            data[col] = data[col].apply(\n",
    "                lambda x: np.array(x).reshape(-1, 1) if isinstance(x, list) else x\n",
    "            )\n",
    "            data[col] = data[col].apply(\n",
    "                lambda x: np.array(x) if isinstance(x, np.ndarray) else ValueError(f\"Invalid data in {col}\")\n",
    "            )\n",
    "        for col in [\"time_series_col1\", \"time_series_col2\"]:\n",
    "            data[col] = data[col].apply(\n",
    "                lambda x: x[:self.seq_len] if len(x) >= self.seq_len else ValueError(f\"Sequence too short in {col}\")\n",
    "            )\n",
    "        return data"
   ]
  },
  {
   "cell_type": "code",
   "execution_count": null,
   "metadata": {},
   "outputs": [],
   "source": [
    "data = pd.DataFrame({\n",
    "        \"entity_id\": [f\"entity_{i}\" for i in range(100)],\n",
    "        \"time_series_col1\": [np.random.rand(16).tolist() for _ in range(100)],\n",
    "        \"time_series_col2\": [np.random.rand(16).tolist() for _ in range(100)],\n",
    "        \"conditioning_var\": [np.random.randint(0, 5) for _ in range(100)],\n",
    "    })\n",
    "\n",
    "custom_dataset = CustomTimeSeriesDataset(data)\n",
    "custom_dataset.data"
   ]
  },
  {
   "cell_type": "code",
   "execution_count": null,
   "metadata": {},
   "outputs": [],
   "source": [
    "generator.set_dataset(custom_dataset)\n",
    "generator.fit()"
   ]
  },
  {
   "cell_type": "code",
   "execution_count": null,
   "metadata": {},
   "outputs": [],
   "source": []
  }
 ],
 "metadata": {
  "kernelspec": {
   "display_name": "venv",
   "language": "python",
   "name": "python3"
  },
  "language_info": {
   "codemirror_mode": {
    "name": "ipython",
    "version": 3
   },
   "file_extension": ".py",
   "mimetype": "text/x-python",
   "name": "python",
   "nbconvert_exporter": "python",
   "pygments_lexer": "ipython3",
   "version": "3.9.5 (default, Nov 23 2021, 15:27:38) \n[GCC 9.3.0]"
  },
  "orig_nbformat": 4,
  "vscode": {
   "interpreter": {
    "hash": "5ea03d6e3b6d6622a3c4a21d472827b30621b9677ee232f2748a7c51f6a29b0a"
   }
  }
 },
 "nbformat": 4,
 "nbformat_minor": 2
}
