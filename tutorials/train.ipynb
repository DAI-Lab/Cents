{
 "cells": [
  {
   "cell_type": "code",
   "execution_count": 1,
   "metadata": {},
   "outputs": [
    {
     "name": "stderr",
     "output_type": "stream",
     "text": [
      "/home/fuest/EnData/venv/lib/python3.9/site-packages/tqdm/auto.py:21: TqdmWarning: IProgress not found. Please update jupyter and ipywidgets. See https://ipywidgets.readthedocs.io/en/stable/user_install.html\n",
      "  from .autonotebook import tqdm as notebook_tqdm\n"
     ]
    }
   ],
   "source": [
    "import sys\n",
    "from pathlib import Path\n",
    "\n",
    "script_dir = Path().resolve()\n",
    "root_dir = (script_dir.parent)\n",
    "sys.path.append(str(root_dir))\n",
    "\n",
    "import pandas as pd\n",
    "import numpy as np\n",
    "\n",
    "from endata.datasets.timeseries_dataset import TimeSeriesDataset\n",
    "from endata.trainer import Trainer"
   ]
  },
  {
   "attachments": {},
   "cell_type": "markdown",
   "metadata": {},
   "source": [
    "## Training a model from scratch ##\n",
    "\n",
    "To train your own model from scratch, the ` Trainer ` class provides a simple implementation. Simply define your a custom dataset and a ` Trainer ` object, and call the ` Trainer ` 's ` fit() ` method."
   ]
  },
  {
   "attachments": {},
   "cell_type": "markdown",
   "metadata": {},
   "source": [
    "## Writing a custom dataset ##\n",
    "\n",
    "When creating a custom time series dataset class for use with EnData, the class must inherit from the provided `TimeSeriesDataset` base class. The `TimeSeriesDataset` class provides a robust and modular framework for handling wide-format time series data. Custom implementations only need to assign a name to `self.name` and implement the `_preprocess_data` method, which is an abstract method in the base class. This method should ensure that the data is available in a clean wide-format data frame, that has the structure outlined below.\n",
    "\n",
    "### Responsibilities of `_preprocess_data`\n",
    "\n",
    "- Preprocess raw input data into a DataFrame that satisfies the expected structure.\n",
    "- Ensure time series columns contain arrays of the correct sequence length (`seq_len`).\n",
    "- Add any additional columns, such as entity identifiers or context variables.\n",
    "\n",
    "### Benefits of the Base Class\n",
    "\n",
    "- **Normalization and Scaling:** Automatically handles standardization and min-max scaling.\n",
    "- **context Variables:** Provides support for encoding and managing context variables.\n",
    "- **Time Series Merging and Splitting:** Facilitates operations to merge multiple time series columns into a single multidimensional array and split them back when needed.\n",
    "- **Data Transformation:** Includes functions for inverse transformations to revert normalized data to its original scale.\n",
    "\n",
    "---\n",
    "\n",
    "### Expected Input DataFrame Structure\n",
    "\n",
    "The input to the `TimeSeriesDataset` class must adhere to the following structure:\n",
    "\n",
    "| **Column Name**       | **Description**                                                                                     |\n",
    "|------------------------|-----------------------------------------------------------------------------------------------------|\n",
    "| `timeseries_col1`      | A column containing arrays of length `seq_len` (after preprocessing) representing the first dimension of the time series. |\n",
    "| `timeseries_col2`      | A column containing arrays of length `seq_len` (after preprocessing) representing the second dimension of the time series.|\n",
    "| `entity_column`        | A column containing unique identifiers for each entity (e.g., user, household, or device ID).       |\n",
    "| `context_var1`    | An (optional) static or numeric context variable (e.g., categorical or continuous feature).                |\n",
    "| `context_var2`    | Further (optional) static or numeric context variables.                                                    |\n",
    "\n",
    "- The `time_series_column_names` parameter specifies which columns are part of the time series.\n",
    "- The `entity_column_name` parameter identifies the column containing unique entity IDs.\n",
    "- The `context_var_column_names` parameter defines additional context variables.\n",
    "\n",
    "---"
   ]
  },
  {
   "cell_type": "code",
   "execution_count": 2,
   "metadata": {},
   "outputs": [],
   "source": [
    "class CustomTimeSeriesDataset(TimeSeriesDataset):\n",
    "    \"\"\"\n",
    "    A custom TimeSeriesDataset implementation for handling toy data.\n",
    "\n",
    "    Input data structure:\n",
    "    - time_series_col1, time_series_col2: Time series data with arrays of length seq_len.\n",
    "    - entity_id: Unique identifier for each entity.\n",
    "    - static_context: Categorical or numeric context variable.\n",
    "    \"\"\"\n",
    "    def __init__(\n",
    "        self,\n",
    "        data: pd.DataFrame,\n",
    "        seq_len: int = 16,\n",
    "        normalize: bool = True,\n",
    "        scale: bool = True,\n",
    "    ):\n",
    "        time_series_column_names = [\"time_series_col1\", \"time_series_col2\"]\n",
    "        context_var_column_names = [\"context_var\"]\n",
    "\n",
    "        super().__init__(\n",
    "            data=data,\n",
    "            time_series_column_names=time_series_column_names,\n",
    "            context_var_column_names=context_var_column_names,\n",
    "            seq_len=seq_len,\n",
    "            normalize=normalize,\n",
    "            scale=scale,\n",
    "        )\n",
    "\n",
    "    def _preprocess_data(self, data: pd.DataFrame) -> pd.DataFrame:\n",
    "        \"\"\"\n",
    "        Preprocesses the raw input data to ensure it conforms to the expected format.\n",
    "\n",
    "        - Ensures time series columns contain arrays of length seq_len.\n",
    "        - Ensures all required columns are present.\n",
    "\n",
    "        Args:\n",
    "            data (pd.DataFrame): The raw input data.\n",
    "\n",
    "        Returns:\n",
    "            pd.DataFrame: The preprocessed data.\n",
    "        \"\"\"\n",
    "        required_columns = [\"time_series_col1\", \"time_series_col2\", \"context_var\"]\n",
    "        for col in required_columns:\n",
    "            if col not in data.columns:\n",
    "                raise ValueError(f\"Missing required column: {col}\")\n",
    "\n",
    "        for col in [\"time_series_col1\", \"time_series_col2\"]:\n",
    "            data[col] = data[col].apply(\n",
    "                lambda x: np.array(x).reshape(-1, 1) if isinstance(x, list) else x\n",
    "            )\n",
    "            data[col] = data[col].apply(\n",
    "                lambda x: np.array(x) if isinstance(x, np.ndarray) else ValueError(f\"Invalid data in {col}\")\n",
    "            )\n",
    "        for col in [\"time_series_col1\", \"time_series_col2\"]:\n",
    "            data[col] = data[col].apply(\n",
    "                lambda x: x[:self.seq_len] if len(x) >= self.seq_len else ValueError(f\"Sequence too short in {col}\")\n",
    "            )\n",
    "        return data"
   ]
  },
  {
   "attachments": {},
   "cell_type": "markdown",
   "metadata": {},
   "source": [
    "Now that we have defined our dataset class, let's create some artificial timeseries columns and context variables which will comprise our dataset:"
   ]
  },
  {
   "cell_type": "code",
   "execution_count": 3,
   "metadata": {},
   "outputs": [
    {
     "name": "stdout",
     "output_type": "stream",
     "text": [
      "[EnData] Loaded normalizer from /home/fuest/.cache/endata/checkpoints/custom/normalizer/custom_normalizer_dim2.ckpt\n"
     ]
    },
    {
     "data": {
      "text/html": [
       "<div>\n",
       "<style scoped>\n",
       "    .dataframe tbody tr th:only-of-type {\n",
       "        vertical-align: middle;\n",
       "    }\n",
       "\n",
       "    .dataframe tbody tr th {\n",
       "        vertical-align: top;\n",
       "    }\n",
       "\n",
       "    .dataframe thead th {\n",
       "        text-align: right;\n",
       "    }\n",
       "</style>\n",
       "<table border=\"1\" class=\"dataframe\">\n",
       "  <thead>\n",
       "    <tr style=\"text-align: right;\">\n",
       "      <th></th>\n",
       "      <th>index</th>\n",
       "      <th>context_var</th>\n",
       "      <th>timeseries</th>\n",
       "      <th>is_frequency_rare</th>\n",
       "      <th>cluster</th>\n",
       "      <th>is_pattern_rare</th>\n",
       "      <th>is_rare</th>\n",
       "    </tr>\n",
       "  </thead>\n",
       "  <tbody>\n",
       "    <tr>\n",
       "      <th>0</th>\n",
       "      <td>0</td>\n",
       "      <td>1</td>\n",
       "      <td>[[0.48750117, 0.1542439], [0.41293383, 0.23400...</td>\n",
       "      <td>False</td>\n",
       "      <td>7</td>\n",
       "      <td>True</td>\n",
       "      <td>False</td>\n",
       "    </tr>\n",
       "    <tr>\n",
       "      <th>1</th>\n",
       "      <td>1</td>\n",
       "      <td>2</td>\n",
       "      <td>[[0.1933689, 0.53490204], [0.7364248, 0.898635...</td>\n",
       "      <td>False</td>\n",
       "      <td>9</td>\n",
       "      <td>True</td>\n",
       "      <td>False</td>\n",
       "    </tr>\n",
       "    <tr>\n",
       "      <th>2</th>\n",
       "      <td>2</td>\n",
       "      <td>0</td>\n",
       "      <td>[[0.9472752, 0.2833785], [0.79172343, 0.356586...</td>\n",
       "      <td>True</td>\n",
       "      <td>3</td>\n",
       "      <td>True</td>\n",
       "      <td>True</td>\n",
       "    </tr>\n",
       "    <tr>\n",
       "      <th>3</th>\n",
       "      <td>3</td>\n",
       "      <td>0</td>\n",
       "      <td>[[0.67579883, 0.65443283], [0.09132707, 0.3540...</td>\n",
       "      <td>True</td>\n",
       "      <td>5</td>\n",
       "      <td>True</td>\n",
       "      <td>True</td>\n",
       "    </tr>\n",
       "    <tr>\n",
       "      <th>4</th>\n",
       "      <td>4</td>\n",
       "      <td>0</td>\n",
       "      <td>[[0.981122, 0.7548456], [0.22297916, 0.934267]...</td>\n",
       "      <td>True</td>\n",
       "      <td>8</td>\n",
       "      <td>True</td>\n",
       "      <td>True</td>\n",
       "    </tr>\n",
       "    <tr>\n",
       "      <th>...</th>\n",
       "      <td>...</td>\n",
       "      <td>...</td>\n",
       "      <td>...</td>\n",
       "      <td>...</td>\n",
       "      <td>...</td>\n",
       "      <td>...</td>\n",
       "      <td>...</td>\n",
       "    </tr>\n",
       "    <tr>\n",
       "      <th>95</th>\n",
       "      <td>95</td>\n",
       "      <td>2</td>\n",
       "      <td>[[0.066371, 0.29005468], [0.4312763, 0.5725938...</td>\n",
       "      <td>False</td>\n",
       "      <td>7</td>\n",
       "      <td>True</td>\n",
       "      <td>False</td>\n",
       "    </tr>\n",
       "    <tr>\n",
       "      <th>96</th>\n",
       "      <td>96</td>\n",
       "      <td>1</td>\n",
       "      <td>[[0.44981784, 0.8007116], [0.9998199, 0.101008...</td>\n",
       "      <td>False</td>\n",
       "      <td>1</td>\n",
       "      <td>True</td>\n",
       "      <td>False</td>\n",
       "    </tr>\n",
       "    <tr>\n",
       "      <th>97</th>\n",
       "      <td>97</td>\n",
       "      <td>1</td>\n",
       "      <td>[[0.7390621, 0.80842996], [0.7798741, 0.276360...</td>\n",
       "      <td>False</td>\n",
       "      <td>2</td>\n",
       "      <td>True</td>\n",
       "      <td>False</td>\n",
       "    </tr>\n",
       "    <tr>\n",
       "      <th>98</th>\n",
       "      <td>98</td>\n",
       "      <td>2</td>\n",
       "      <td>[[0.071502745, 0.48175776], [0.7330775, 0.3269...</td>\n",
       "      <td>False</td>\n",
       "      <td>7</td>\n",
       "      <td>True</td>\n",
       "      <td>False</td>\n",
       "    </tr>\n",
       "    <tr>\n",
       "      <th>99</th>\n",
       "      <td>99</td>\n",
       "      <td>1</td>\n",
       "      <td>[[0.2634918, 0.54196507], [0.72752184, 0.70740...</td>\n",
       "      <td>False</td>\n",
       "      <td>2</td>\n",
       "      <td>True</td>\n",
       "      <td>False</td>\n",
       "    </tr>\n",
       "  </tbody>\n",
       "</table>\n",
       "<p>100 rows × 7 columns</p>\n",
       "</div>"
      ],
      "text/plain": [
       "    index  context_var                                         timeseries  \\\n",
       "0       0            1  [[0.48750117, 0.1542439], [0.41293383, 0.23400...   \n",
       "1       1            2  [[0.1933689, 0.53490204], [0.7364248, 0.898635...   \n",
       "2       2            0  [[0.9472752, 0.2833785], [0.79172343, 0.356586...   \n",
       "3       3            0  [[0.67579883, 0.65443283], [0.09132707, 0.3540...   \n",
       "4       4            0  [[0.981122, 0.7548456], [0.22297916, 0.934267]...   \n",
       "..    ...          ...                                                ...   \n",
       "95     95            2  [[0.066371, 0.29005468], [0.4312763, 0.5725938...   \n",
       "96     96            1  [[0.44981784, 0.8007116], [0.9998199, 0.101008...   \n",
       "97     97            1  [[0.7390621, 0.80842996], [0.7798741, 0.276360...   \n",
       "98     98            2  [[0.071502745, 0.48175776], [0.7330775, 0.3269...   \n",
       "99     99            1  [[0.2634918, 0.54196507], [0.72752184, 0.70740...   \n",
       "\n",
       "    is_frequency_rare  cluster  is_pattern_rare  is_rare  \n",
       "0               False        7             True    False  \n",
       "1               False        9             True    False  \n",
       "2                True        3             True     True  \n",
       "3                True        5             True     True  \n",
       "4                True        8             True     True  \n",
       "..                ...      ...              ...      ...  \n",
       "95              False        7             True    False  \n",
       "96              False        1             True    False  \n",
       "97              False        2             True    False  \n",
       "98              False        7             True    False  \n",
       "99              False        2             True    False  \n",
       "\n",
       "[100 rows x 7 columns]"
      ]
     },
     "execution_count": 3,
     "metadata": {},
     "output_type": "execute_result"
    }
   ],
   "source": [
    "data = pd.DataFrame({\n",
    "        \"time_series_col1\": [np.random.rand(16) for _ in range(100)],\n",
    "        \"time_series_col2\": [np.random.rand(16) for _ in range(100)],\n",
    "        \"context_var\": np.random.choice([\"a\", \"b\", \"c\"], size=100).tolist(),\n",
    "    })\n",
    "\n",
    "custom_dataset = CustomTimeSeriesDataset(data)\n",
    "custom_dataset.data"
   ]
  },
  {
   "attachments": {},
   "cell_type": "markdown",
   "metadata": {},
   "source": [
    "We will now create a `Trainer` object by passing the name of the desired model and the dataset object. To start training, simply call `Trainer.fit()`."
   ]
  },
  {
   "cell_type": "code",
   "execution_count": 7,
   "metadata": {},
   "outputs": [
    {
     "name": "stderr",
     "output_type": "stream",
     "text": [
      "Trainer will use only 1 of 2 GPUs because it is running inside an interactive / notebook environment. You may try to set `Trainer(devices=2)` but please note that multi-GPU inside interactive / notebook environments is considered experimental and unstable. Your mileage may vary.\n",
      "Using 16bit Automatic Mixed Precision (AMP)\n",
      "GPU available: True (cuda), used: True\n",
      "TPU available: False, using: 0 TPU cores\n",
      "HPU available: False, using: 0 HPUs\n",
      "LOCAL_RANK: 0 - CUDA_VISIBLE_DEVICES: [0,1]\n",
      "\n",
      "  | Name           | Type              | Params | Mode \n",
      "-------------------------------------------------------------\n",
      "0 | context_module | ContextModule     | 4.3 K  | train\n",
      "1 | generator      | Generator         | 309 K  | train\n",
      "2 | discriminator  | Discriminator     | 167 K  | train\n",
      "3 | adv_loss       | BCEWithLogitsLoss | 0      | train\n",
      "4 | aux_loss       | CrossEntropyLoss  | 0      | train\n",
      "-------------------------------------------------------------\n",
      "477 K     Trainable params\n",
      "0         Non-trainable params\n",
      "477 K     Total params\n",
      "1.909     Total estimated model params size (MB)\n",
      "37        Modules in train mode\n",
      "0         Modules in eval mode\n"
     ]
    },
    {
     "name": "stdout",
     "output_type": "stream",
     "text": [
      "Epoch 4: 100%|██████████| 1/1 [00:00<00:00,  3.51it/s, loss_G=1.830, loss_D=3.580]"
     ]
    },
    {
     "name": "stderr",
     "output_type": "stream",
     "text": [
      "`Trainer.fit` stopped: `max_epochs=5` reached.\n"
     ]
    },
    {
     "name": "stdout",
     "output_type": "stream",
     "text": [
      "Epoch 4: 100%|██████████| 1/1 [00:00<00:00,  3.10it/s, loss_G=1.830, loss_D=3.580]\n"
     ]
    },
    {
     "data": {
      "text/plain": [
       "<endata.trainer.Trainer at 0x7f5e744a87c0>"
      ]
     },
     "execution_count": 7,
     "metadata": {},
     "output_type": "execute_result"
    }
   ],
   "source": [
    "trainer = Trainer(model_name=\"acgan\", dataset=custom_dataset, overrides=[\"trainer.max_epochs=5\", \"trainer.strategy=auto\"])\n",
    "trainer.fit()"
   ]
  },
  {
   "attachments": {},
   "cell_type": "markdown",
   "metadata": {},
   "source": [
    "Once training is complete, we can create a data generator object that has access to the trained model and dataset information. To generate data, there is no need to load in a trained model. Simply define the context variables, and call the `DataGenerator` 's `generate()` method."
   ]
  },
  {
   "cell_type": "code",
   "execution_count": 8,
   "metadata": {},
   "outputs": [],
   "source": [
    "data_generator = trainer.get_data_generator()"
   ]
  },
  {
   "cell_type": "code",
   "execution_count": 9,
   "metadata": {},
   "outputs": [
    {
     "data": {
      "text/html": [
       "<div>\n",
       "<style scoped>\n",
       "    .dataframe tbody tr th:only-of-type {\n",
       "        vertical-align: middle;\n",
       "    }\n",
       "\n",
       "    .dataframe tbody tr th {\n",
       "        vertical-align: top;\n",
       "    }\n",
       "\n",
       "    .dataframe thead th {\n",
       "        text-align: right;\n",
       "    }\n",
       "</style>\n",
       "<table border=\"1\" class=\"dataframe\">\n",
       "  <thead>\n",
       "    <tr style=\"text-align: right;\">\n",
       "      <th></th>\n",
       "      <th>context_var</th>\n",
       "      <th>time_series_col1</th>\n",
       "      <th>time_series_col2</th>\n",
       "    </tr>\n",
       "  </thead>\n",
       "  <tbody>\n",
       "    <tr>\n",
       "      <th>0</th>\n",
       "      <td>2</td>\n",
       "      <td>[0.45727977, 0.51897794, 0.4798854, 0.42708677...</td>\n",
       "      <td>[0.470251, 0.60801685, 0.44749513, 0.5431756, ...</td>\n",
       "    </tr>\n",
       "    <tr>\n",
       "      <th>1</th>\n",
       "      <td>2</td>\n",
       "      <td>[0.48344016, 0.5245678, 0.47357607, 0.531312, ...</td>\n",
       "      <td>[0.4844045, 0.52361476, 0.44142634, 0.55366766...</td>\n",
       "    </tr>\n",
       "    <tr>\n",
       "      <th>2</th>\n",
       "      <td>2</td>\n",
       "      <td>[0.44399303, 0.54520196, 0.42349514, 0.4442703...</td>\n",
       "      <td>[0.47629273, 0.5668736, 0.4106424, 0.5360027, ...</td>\n",
       "    </tr>\n",
       "    <tr>\n",
       "      <th>3</th>\n",
       "      <td>2</td>\n",
       "      <td>[0.45557648, 0.49937442, 0.5163582, 0.53112465...</td>\n",
       "      <td>[0.4393615, 0.49636224, 0.4633952, 0.45261684,...</td>\n",
       "    </tr>\n",
       "    <tr>\n",
       "      <th>4</th>\n",
       "      <td>2</td>\n",
       "      <td>[0.4618596, 0.5549065, 0.45492694, 0.46001238,...</td>\n",
       "      <td>[0.48802534, 0.51868093, 0.4877114, 0.4838679,...</td>\n",
       "    </tr>\n",
       "    <tr>\n",
       "      <th>...</th>\n",
       "      <td>...</td>\n",
       "      <td>...</td>\n",
       "      <td>...</td>\n",
       "    </tr>\n",
       "    <tr>\n",
       "      <th>95</th>\n",
       "      <td>2</td>\n",
       "      <td>[0.45156628, 0.5218126, 0.51553077, 0.4835453,...</td>\n",
       "      <td>[0.5041389, 0.53898656, 0.47410166, 0.46987182...</td>\n",
       "    </tr>\n",
       "    <tr>\n",
       "      <th>96</th>\n",
       "      <td>2</td>\n",
       "      <td>[0.43952155, 0.55379754, 0.5375207, 0.4894367,...</td>\n",
       "      <td>[0.47052127, 0.54430103, 0.42144778, 0.4910470...</td>\n",
       "    </tr>\n",
       "    <tr>\n",
       "      <th>97</th>\n",
       "      <td>2</td>\n",
       "      <td>[0.46058822, 0.48529935, 0.50417596, 0.5024766...</td>\n",
       "      <td>[0.49035966, 0.53197294, 0.5194386, 0.50335693...</td>\n",
       "    </tr>\n",
       "    <tr>\n",
       "      <th>98</th>\n",
       "      <td>2</td>\n",
       "      <td>[0.45818165, 0.5586115, 0.49885723, 0.4629985,...</td>\n",
       "      <td>[0.46143523, 0.46299663, 0.4316833, 0.5535009,...</td>\n",
       "    </tr>\n",
       "    <tr>\n",
       "      <th>99</th>\n",
       "      <td>2</td>\n",
       "      <td>[0.487407, 0.5421349, 0.49189404, 0.45921388, ...</td>\n",
       "      <td>[0.4943414, 0.50315976, 0.48266464, 0.55563, 0...</td>\n",
       "    </tr>\n",
       "  </tbody>\n",
       "</table>\n",
       "<p>100 rows × 3 columns</p>\n",
       "</div>"
      ],
      "text/plain": [
       "    context_var                                   time_series_col1  \\\n",
       "0             2  [0.45727977, 0.51897794, 0.4798854, 0.42708677...   \n",
       "1             2  [0.48344016, 0.5245678, 0.47357607, 0.531312, ...   \n",
       "2             2  [0.44399303, 0.54520196, 0.42349514, 0.4442703...   \n",
       "3             2  [0.45557648, 0.49937442, 0.5163582, 0.53112465...   \n",
       "4             2  [0.4618596, 0.5549065, 0.45492694, 0.46001238,...   \n",
       "..          ...                                                ...   \n",
       "95            2  [0.45156628, 0.5218126, 0.51553077, 0.4835453,...   \n",
       "96            2  [0.43952155, 0.55379754, 0.5375207, 0.4894367,...   \n",
       "97            2  [0.46058822, 0.48529935, 0.50417596, 0.5024766...   \n",
       "98            2  [0.45818165, 0.5586115, 0.49885723, 0.4629985,...   \n",
       "99            2  [0.487407, 0.5421349, 0.49189404, 0.45921388, ...   \n",
       "\n",
       "                                     time_series_col2  \n",
       "0   [0.470251, 0.60801685, 0.44749513, 0.5431756, ...  \n",
       "1   [0.4844045, 0.52361476, 0.44142634, 0.55366766...  \n",
       "2   [0.47629273, 0.5668736, 0.4106424, 0.5360027, ...  \n",
       "3   [0.4393615, 0.49636224, 0.4633952, 0.45261684,...  \n",
       "4   [0.48802534, 0.51868093, 0.4877114, 0.4838679,...  \n",
       "..                                                ...  \n",
       "95  [0.5041389, 0.53898656, 0.47410166, 0.46987182...  \n",
       "96  [0.47052127, 0.54430103, 0.42144778, 0.4910470...  \n",
       "97  [0.49035966, 0.53197294, 0.5194386, 0.50335693...  \n",
       "98  [0.46143523, 0.46299663, 0.4316833, 0.5535009,...  \n",
       "99  [0.4943414, 0.50315976, 0.48266464, 0.55563, 0...  \n",
       "\n",
       "[100 rows x 3 columns]"
      ]
     },
     "execution_count": 9,
     "metadata": {},
     "output_type": "execute_result"
    }
   ],
   "source": [
    "data_generator.set_context(context_var=2)\n",
    "generated_df = data_generator.generate(n=100)\n",
    "generated_df"
   ]
  },
  {
   "cell_type": "markdown",
   "metadata": {},
   "source": [
    "# Model Evaluation\n",
    "\n",
    "The `Evaluator` class provides functionality to assess the quality of generated data compared to the original training data. It computes various metrics including:\n",
    "\n",
    "- Distribution similarity between real and generated data\n",
    "- Utility metrics\n",
    "- Context-FID\n",
    "\n",
    "To evaluate the trained model, we can use the `evaluate()` method of the `Trainer`. This method accepts:\n",
    "\n",
    "- A dataset to evaluate against (typically the training dataset)\n",
    "- Optional evaluation configuration parameters\n",
    "\n",
    "The evaluation results provide insights into how well the model captures the underlying data patterns and maintains the relationship with context variables.\n",
    "\n",
    "Let's run an evaluation on our trained model:"
   ]
  },
  {
   "cell_type": "code",
   "execution_count": 10,
   "metadata": {},
   "outputs": [
    {
     "name": "stderr",
     "output_type": "stream",
     "text": [
      "Training Discriminative Score Model: 100%|██████████| 2000/2000 [00:06<00:00, 301.42it/s]\n",
      "Training Predictive Score Model: 100%|██████████| 5000/5000 [00:16<00:00, 305.58it/s]\n"
     ]
    }
   ],
   "source": [
    "results = trainer.evaluate()\n",
    "metadata = results[\"metadata\"]\n",
    "metrics = results[\"metrics\"]"
   ]
  },
  {
   "cell_type": "code",
   "execution_count": 11,
   "metadata": {},
   "outputs": [
    {
     "data": {
      "text/plain": [
       "{'DTW': {'mean': np.float64(1.416781231229178),\n",
       "  'std': np.float64(0.15105484522843415)},\n",
       " 'MMD': {'mean': np.float64(0.015422067693394749),\n",
       "  'std': np.float64(0.010529945421156697)},\n",
       " 'Context_FID': np.float64(3.890161812010505),\n",
       " 'Disc_Score': np.float64(0.5),\n",
       " 'Pred_Score': 0.254741563051939}"
      ]
     },
     "execution_count": 11,
     "metadata": {},
     "output_type": "execute_result"
    }
   ],
   "source": [
    "metrics"
   ]
  },
  {
   "cell_type": "code",
   "execution_count": null,
   "metadata": {},
   "outputs": [],
   "source": []
  }
 ],
 "metadata": {
  "kernelspec": {
   "display_name": "venv",
   "language": "python",
   "name": "python3"
  },
  "language_info": {
   "codemirror_mode": {
    "name": "ipython",
    "version": 3
   },
   "file_extension": ".py",
   "mimetype": "text/x-python",
   "name": "python",
   "nbconvert_exporter": "python",
   "pygments_lexer": "ipython3",
   "version": "3.9.5"
  },
  "orig_nbformat": 4,
  "vscode": {
   "interpreter": {
    "hash": "5ea03d6e3b6d6622a3c4a21d472827b30621b9677ee232f2748a7c51f6a29b0a"
   }
  }
 },
 "nbformat": 4,
 "nbformat_minor": 2
}
