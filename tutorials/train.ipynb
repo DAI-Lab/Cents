{
 "cells": [
  {
   "cell_type": "code",
   "execution_count": 9,
   "metadata": {},
   "outputs": [],
   "source": [
    "import sys\n",
    "from pathlib import Path\n",
    "\n",
    "script_dir = Path().resolve()\n",
    "root_dir = (script_dir.parent)\n",
    "sys.path.append(str(root_dir))\n",
    "\n",
    "import pandas as pd\n",
    "import numpy as np\n",
    "\n",
    "from endata.datasets.timeseries_dataset import TimeSeriesDataset\n",
    "from endata.trainer import Trainer"
   ]
  },
  {
   "attachments": {},
   "cell_type": "markdown",
   "metadata": {},
   "source": [
    "## Training a model from scratch ##\n",
    "\n",
    "To train your own model from scratch, the ` Trainer ` class provides a simple implementation. Simply define your a custom dataset and a ` Trainer ` object, and call the ` Trainer ` 's ` fit() ` method."
   ]
  },
  {
   "attachments": {},
   "cell_type": "markdown",
   "metadata": {},
   "source": [
    "## Writing a custom dataset ##\n",
    "\n",
    "When creating a custom time series dataset class for use with EnData, the class must inherit from the provided `TimeSeriesDataset` base class. The `TimeSeriesDataset` class provides a robust and modular framework for handling wide-format time series data. Custom implementations only need to assign a name to `self.name` and implement the `_preprocess_data` method, which is an abstract method in the base class. This method should ensure that the data is available in a clean wide-format data frame, that has the structure outlined below.\n",
    "\n",
    "### Responsibilities of `_preprocess_data`\n",
    "\n",
    "- Preprocess raw input data into a DataFrame that satisfies the expected structure.\n",
    "- Ensure time series columns contain arrays of the correct sequence length (`seq_len`).\n",
    "- Add any additional columns, such as entity identifiers or context variables.\n",
    "\n",
    "### Benefits of the Base Class\n",
    "\n",
    "- **Normalization and Scaling:** Automatically handles standardization and min-max scaling.\n",
    "- **context Variables:** Provides support for encoding and managing context variables.\n",
    "- **Time Series Merging and Splitting:** Facilitates operations to merge multiple time series columns into a single multidimensional array and split them back when needed.\n",
    "- **Data Transformation:** Includes functions for inverse transformations to revert normalized data to its original scale.\n",
    "\n",
    "---\n",
    "\n",
    "### Expected Input DataFrame Structure\n",
    "\n",
    "The input to the `TimeSeriesDataset` class must adhere to the following structure:\n",
    "\n",
    "| **Column Name**       | **Description**                                                                                     |\n",
    "|------------------------|-----------------------------------------------------------------------------------------------------|\n",
    "| `timeseries_col1`      | A column containing arrays of length `seq_len` (after preprocessing) representing the first dimension of the time series. |\n",
    "| `timeseries_col2`      | A column containing arrays of length `seq_len` (after preprocessing) representing the second dimension of the time series.|\n",
    "| `entity_column`        | A column containing unique identifiers for each entity (e.g., user, household, or device ID).       |\n",
    "| `context_var1`    | An (optional) static or numeric context variable (e.g., categorical or continuous feature).                |\n",
    "| `context_var2`    | Further (optional) static or numeric context variables.                                                    |\n",
    "\n",
    "- The `time_series_column_names` parameter specifies which columns are part of the time series.\n",
    "- The `entity_column_name` parameter identifies the column containing unique entity IDs.\n",
    "- The `context_var_column_names` parameter defines additional context variables.\n",
    "\n",
    "---"
   ]
  },
  {
   "cell_type": "code",
   "execution_count": 10,
   "metadata": {},
   "outputs": [],
   "source": [
    "class CustomTimeSeriesDataset(TimeSeriesDataset):\n",
    "    \"\"\"\n",
    "    A custom TimeSeriesDataset implementation for handling toy data.\n",
    "\n",
    "    Input data structure:\n",
    "    - time_series_col1, time_series_col2: Time series data with arrays of length seq_len.\n",
    "    - entity_id: Unique identifier for each entity.\n",
    "    - static_context: Categorical or numeric context variable.\n",
    "    \"\"\"\n",
    "    def __init__(\n",
    "        self,\n",
    "        data: pd.DataFrame,\n",
    "        seq_len: int = 16,\n",
    "        normalize: bool = True,\n",
    "        scale: bool = True,\n",
    "    ):\n",
    "        time_series_column_names = [\"time_series_col1\", \"time_series_col2\"]\n",
    "        context_var_column_names = [\"context_var\"]\n",
    "\n",
    "        super().__init__(\n",
    "            data=data,\n",
    "            time_series_column_names=time_series_column_names,\n",
    "            context_var_column_names=context_var_column_names,\n",
    "            seq_len=seq_len,\n",
    "            normalize=normalize,\n",
    "            scale=scale,\n",
    "        )\n",
    "\n",
    "    def _preprocess_data(self, data: pd.DataFrame) -> pd.DataFrame:\n",
    "        \"\"\"\n",
    "        Preprocesses the raw input data to ensure it conforms to the expected format.\n",
    "\n",
    "        - Ensures time series columns contain arrays of length seq_len.\n",
    "        - Ensures all required columns are present.\n",
    "\n",
    "        Args:\n",
    "            data (pd.DataFrame): The raw input data.\n",
    "\n",
    "        Returns:\n",
    "            pd.DataFrame: The preprocessed data.\n",
    "        \"\"\"\n",
    "        required_columns = [\"time_series_col1\", \"time_series_col2\", \"context_var\"]\n",
    "        for col in required_columns:\n",
    "            if col not in data.columns:\n",
    "                raise ValueError(f\"Missing required column: {col}\")\n",
    "\n",
    "        for col in [\"time_series_col1\", \"time_series_col2\"]:\n",
    "            data[col] = data[col].apply(\n",
    "                lambda x: np.array(x).reshape(-1, 1) if isinstance(x, list) else x\n",
    "            )\n",
    "            data[col] = data[col].apply(\n",
    "                lambda x: np.array(x) if isinstance(x, np.ndarray) else ValueError(f\"Invalid data in {col}\")\n",
    "            )\n",
    "        for col in [\"time_series_col1\", \"time_series_col2\"]:\n",
    "            data[col] = data[col].apply(\n",
    "                lambda x: x[:self.seq_len] if len(x) >= self.seq_len else ValueError(f\"Sequence too short in {col}\")\n",
    "            )\n",
    "        return data"
   ]
  },
  {
   "attachments": {},
   "cell_type": "markdown",
   "metadata": {},
   "source": [
    "Now that we have defined our dataset class, let's create some artificial timeseries columns and context variables which will comprise our dataset:"
   ]
  },
  {
   "cell_type": "code",
   "execution_count": 11,
   "metadata": {},
   "outputs": [
    {
     "name": "stdout",
     "output_type": "stream",
     "text": [
      "[EnData] Loaded normalizer from /home/fuest/.cache/endata/checkpoints/custom/normalizer/custom_normalizer_dim2.ckpt\n"
     ]
    },
    {
     "data": {
      "text/html": [
       "<div>\n",
       "<style scoped>\n",
       "    .dataframe tbody tr th:only-of-type {\n",
       "        vertical-align: middle;\n",
       "    }\n",
       "\n",
       "    .dataframe tbody tr th {\n",
       "        vertical-align: top;\n",
       "    }\n",
       "\n",
       "    .dataframe thead th {\n",
       "        text-align: right;\n",
       "    }\n",
       "</style>\n",
       "<table border=\"1\" class=\"dataframe\">\n",
       "  <thead>\n",
       "    <tr style=\"text-align: right;\">\n",
       "      <th></th>\n",
       "      <th>index</th>\n",
       "      <th>context_var</th>\n",
       "      <th>timeseries</th>\n",
       "      <th>is_frequency_rare</th>\n",
       "      <th>cluster</th>\n",
       "      <th>is_pattern_rare</th>\n",
       "      <th>is_rare</th>\n",
       "    </tr>\n",
       "  </thead>\n",
       "  <tbody>\n",
       "    <tr>\n",
       "      <th>0</th>\n",
       "      <td>0</td>\n",
       "      <td>2</td>\n",
       "      <td>[[0.77760565, 0.87103003], [0.11325499, 0.6802...</td>\n",
       "      <td>False</td>\n",
       "      <td>7</td>\n",
       "      <td>True</td>\n",
       "      <td>False</td>\n",
       "    </tr>\n",
       "    <tr>\n",
       "      <th>1</th>\n",
       "      <td>1</td>\n",
       "      <td>1</td>\n",
       "      <td>[[0.51916474, 0.49785388], [0.7568429, 0.90242...</td>\n",
       "      <td>False</td>\n",
       "      <td>5</td>\n",
       "      <td>False</td>\n",
       "      <td>False</td>\n",
       "    </tr>\n",
       "    <tr>\n",
       "      <th>2</th>\n",
       "      <td>2</td>\n",
       "      <td>2</td>\n",
       "      <td>[[0.6528517, 0.8934492], [0.07006582, 0.694379...</td>\n",
       "      <td>False</td>\n",
       "      <td>5</td>\n",
       "      <td>False</td>\n",
       "      <td>False</td>\n",
       "    </tr>\n",
       "    <tr>\n",
       "      <th>3</th>\n",
       "      <td>3</td>\n",
       "      <td>0</td>\n",
       "      <td>[[0.96020216, 0.7788653], [0.68686104, 0.99778...</td>\n",
       "      <td>True</td>\n",
       "      <td>1</td>\n",
       "      <td>True</td>\n",
       "      <td>True</td>\n",
       "    </tr>\n",
       "    <tr>\n",
       "      <th>4</th>\n",
       "      <td>4</td>\n",
       "      <td>0</td>\n",
       "      <td>[[0.51167774, 0.633585], [0.82306135, 0.176096...</td>\n",
       "      <td>True</td>\n",
       "      <td>8</td>\n",
       "      <td>True</td>\n",
       "      <td>True</td>\n",
       "    </tr>\n",
       "    <tr>\n",
       "      <th>...</th>\n",
       "      <td>...</td>\n",
       "      <td>...</td>\n",
       "      <td>...</td>\n",
       "      <td>...</td>\n",
       "      <td>...</td>\n",
       "      <td>...</td>\n",
       "      <td>...</td>\n",
       "    </tr>\n",
       "    <tr>\n",
       "      <th>95</th>\n",
       "      <td>95</td>\n",
       "      <td>1</td>\n",
       "      <td>[[0.32992682, 0.9944074], [0.359938, 0.5865123...</td>\n",
       "      <td>False</td>\n",
       "      <td>5</td>\n",
       "      <td>False</td>\n",
       "      <td>False</td>\n",
       "    </tr>\n",
       "    <tr>\n",
       "      <th>96</th>\n",
       "      <td>96</td>\n",
       "      <td>1</td>\n",
       "      <td>[[0.31565368, 0.11548374], [0.76430124, 0.4452...</td>\n",
       "      <td>False</td>\n",
       "      <td>4</td>\n",
       "      <td>True</td>\n",
       "      <td>False</td>\n",
       "    </tr>\n",
       "    <tr>\n",
       "      <th>97</th>\n",
       "      <td>97</td>\n",
       "      <td>1</td>\n",
       "      <td>[[0.035136953, 0.09197914], [0.639684, 0.47911...</td>\n",
       "      <td>False</td>\n",
       "      <td>0</td>\n",
       "      <td>True</td>\n",
       "      <td>False</td>\n",
       "    </tr>\n",
       "    <tr>\n",
       "      <th>98</th>\n",
       "      <td>98</td>\n",
       "      <td>2</td>\n",
       "      <td>[[0.12941942, 0.5271707], [0.7092574, 0.009986...</td>\n",
       "      <td>False</td>\n",
       "      <td>5</td>\n",
       "      <td>False</td>\n",
       "      <td>False</td>\n",
       "    </tr>\n",
       "    <tr>\n",
       "      <th>99</th>\n",
       "      <td>99</td>\n",
       "      <td>1</td>\n",
       "      <td>[[0.8420974, 0.28841817], [0.5403581, 0.133203...</td>\n",
       "      <td>False</td>\n",
       "      <td>4</td>\n",
       "      <td>True</td>\n",
       "      <td>False</td>\n",
       "    </tr>\n",
       "  </tbody>\n",
       "</table>\n",
       "<p>100 rows × 7 columns</p>\n",
       "</div>"
      ],
      "text/plain": [
       "    index  context_var                                         timeseries  \\\n",
       "0       0            2  [[0.77760565, 0.87103003], [0.11325499, 0.6802...   \n",
       "1       1            1  [[0.51916474, 0.49785388], [0.7568429, 0.90242...   \n",
       "2       2            2  [[0.6528517, 0.8934492], [0.07006582, 0.694379...   \n",
       "3       3            0  [[0.96020216, 0.7788653], [0.68686104, 0.99778...   \n",
       "4       4            0  [[0.51167774, 0.633585], [0.82306135, 0.176096...   \n",
       "..    ...          ...                                                ...   \n",
       "95     95            1  [[0.32992682, 0.9944074], [0.359938, 0.5865123...   \n",
       "96     96            1  [[0.31565368, 0.11548374], [0.76430124, 0.4452...   \n",
       "97     97            1  [[0.035136953, 0.09197914], [0.639684, 0.47911...   \n",
       "98     98            2  [[0.12941942, 0.5271707], [0.7092574, 0.009986...   \n",
       "99     99            1  [[0.8420974, 0.28841817], [0.5403581, 0.133203...   \n",
       "\n",
       "    is_frequency_rare  cluster  is_pattern_rare  is_rare  \n",
       "0               False        7             True    False  \n",
       "1               False        5            False    False  \n",
       "2               False        5            False    False  \n",
       "3                True        1             True     True  \n",
       "4                True        8             True     True  \n",
       "..                ...      ...              ...      ...  \n",
       "95              False        5            False    False  \n",
       "96              False        4             True    False  \n",
       "97              False        0             True    False  \n",
       "98              False        5            False    False  \n",
       "99              False        4             True    False  \n",
       "\n",
       "[100 rows x 7 columns]"
      ]
     },
     "execution_count": 11,
     "metadata": {},
     "output_type": "execute_result"
    }
   ],
   "source": [
    "data = pd.DataFrame({\n",
    "        \"time_series_col1\": [np.random.rand(16) for _ in range(100)],\n",
    "        \"time_series_col2\": [np.random.rand(16) for _ in range(100)],\n",
    "        \"context_var\": np.random.choice([\"a\", \"b\", \"c\"], size=100).tolist(),\n",
    "    })\n",
    "\n",
    "custom_dataset = CustomTimeSeriesDataset(data)\n",
    "custom_dataset.data"
   ]
  },
  {
   "attachments": {},
   "cell_type": "markdown",
   "metadata": {},
   "source": [
    "We will now create a `Trainer` object by passing the name of the desired model and the dataset object. To start training, simply call `Trainer.fit()`."
   ]
  },
  {
   "cell_type": "code",
   "execution_count": 12,
   "metadata": {},
   "outputs": [
    {
     "name": "stderr",
     "output_type": "stream",
     "text": [
      "Trainer will use only 1 of 2 GPUs because it is running inside an interactive / notebook environment. You may try to set `Trainer(devices=2)` but please note that multi-GPU inside interactive / notebook environments is considered experimental and unstable. Your mileage may vary.\n",
      "Using 16bit Automatic Mixed Precision (AMP)\n",
      "GPU available: True (cuda), used: True\n",
      "TPU available: False, using: 0 TPU cores\n",
      "HPU available: False, using: 0 HPUs\n",
      "LOCAL_RANK: 0 - CUDA_VISIBLE_DEVICES: [0,1]\n"
     ]
    },
    {
     "name": "stderr",
     "output_type": "stream",
     "text": [
      "\n",
      "  | Name           | Type              | Params | Mode \n",
      "-------------------------------------------------------------\n",
      "0 | context_module | ContextModule     | 4.3 K  | train\n",
      "1 | generator      | Generator         | 309 K  | train\n",
      "2 | discriminator  | Discriminator     | 167 K  | train\n",
      "3 | adv_loss       | BCEWithLogitsLoss | 0      | train\n",
      "4 | aux_loss       | CrossEntropyLoss  | 0      | train\n",
      "-------------------------------------------------------------\n",
      "477 K     Trainable params\n",
      "0         Non-trainable params\n",
      "477 K     Total params\n",
      "1.909     Total estimated model params size (MB)\n",
      "37        Modules in train mode\n",
      "0         Modules in eval mode\n"
     ]
    },
    {
     "name": "stdout",
     "output_type": "stream",
     "text": [
      "Epoch 4: 100%|██████████| 1/1 [00:00<00:00,  5.12it/s, loss_G=2.000, loss_D=3.540]"
     ]
    },
    {
     "name": "stderr",
     "output_type": "stream",
     "text": [
      "`Trainer.fit` stopped: `max_epochs=5` reached.\n"
     ]
    },
    {
     "name": "stdout",
     "output_type": "stream",
     "text": [
      "Epoch 4: 100%|██████████| 1/1 [00:00<00:00,  3.88it/s, loss_G=2.000, loss_D=3.540]\n"
     ]
    },
    {
     "data": {
      "text/plain": [
       "<endata.trainer.Trainer at 0x7f0ca81bf1f0>"
      ]
     },
     "execution_count": 12,
     "metadata": {},
     "output_type": "execute_result"
    }
   ],
   "source": [
    "trainer = Trainer(model_name=\"acgan\", dataset=custom_dataset, overrides=[\"trainer.max_epochs=5\", \"trainer.strategy=auto\"])\n",
    "trainer.fit()"
   ]
  },
  {
   "attachments": {},
   "cell_type": "markdown",
   "metadata": {},
   "source": [
    "Once training is complete, we can create a data generator object that has access to the trained model and dataset information. To generate data, there is no need to load in a trained model. Simply define the context variables, and call the `DataGenerator` 's `generate()` method."
   ]
  },
  {
   "cell_type": "code",
   "execution_count": 13,
   "metadata": {},
   "outputs": [],
   "source": [
    "data_generator = trainer.get_data_generator()"
   ]
  },
  {
   "cell_type": "code",
   "execution_count": 14,
   "metadata": {},
   "outputs": [
    {
     "data": {
      "text/html": [
       "<div>\n",
       "<style scoped>\n",
       "    .dataframe tbody tr th:only-of-type {\n",
       "        vertical-align: middle;\n",
       "    }\n",
       "\n",
       "    .dataframe tbody tr th {\n",
       "        vertical-align: top;\n",
       "    }\n",
       "\n",
       "    .dataframe thead th {\n",
       "        text-align: right;\n",
       "    }\n",
       "</style>\n",
       "<table border=\"1\" class=\"dataframe\">\n",
       "  <thead>\n",
       "    <tr style=\"text-align: right;\">\n",
       "      <th></th>\n",
       "      <th>context_var</th>\n",
       "      <th>time_series_col1</th>\n",
       "      <th>time_series_col2</th>\n",
       "    </tr>\n",
       "  </thead>\n",
       "  <tbody>\n",
       "    <tr>\n",
       "      <th>0</th>\n",
       "      <td>2</td>\n",
       "      <td>[0.5199467, 0.44614255, 0.5605779, 0.61748564,...</td>\n",
       "      <td>[0.3560219, 0.4248352, 0.39010537, 0.54013175,...</td>\n",
       "    </tr>\n",
       "    <tr>\n",
       "      <th>1</th>\n",
       "      <td>2</td>\n",
       "      <td>[0.52375543, 0.49376857, 0.571702, 0.59647495,...</td>\n",
       "      <td>[0.37484938, 0.3898486, 0.3503686, 0.4478007, ...</td>\n",
       "    </tr>\n",
       "    <tr>\n",
       "      <th>2</th>\n",
       "      <td>2</td>\n",
       "      <td>[0.5537223, 0.44612423, 0.5534694, 0.44235688,...</td>\n",
       "      <td>[0.37444115, 0.42353788, 0.4217857, 0.5409928,...</td>\n",
       "    </tr>\n",
       "    <tr>\n",
       "      <th>3</th>\n",
       "      <td>2</td>\n",
       "      <td>[0.54556465, 0.5067076, 0.53900754, 0.6433268,...</td>\n",
       "      <td>[0.3973128, 0.3578704, 0.403728, 0.62896526, 0...</td>\n",
       "    </tr>\n",
       "    <tr>\n",
       "      <th>4</th>\n",
       "      <td>2</td>\n",
       "      <td>[0.5280727, 0.51212806, 0.55282754, 0.48678616...</td>\n",
       "      <td>[0.40532577, 0.3838707, 0.3944916, 0.5150177, ...</td>\n",
       "    </tr>\n",
       "    <tr>\n",
       "      <th>...</th>\n",
       "      <td>...</td>\n",
       "      <td>...</td>\n",
       "      <td>...</td>\n",
       "    </tr>\n",
       "    <tr>\n",
       "      <th>95</th>\n",
       "      <td>2</td>\n",
       "      <td>[0.5011872, 0.45941105, 0.60996777, 0.5618797,...</td>\n",
       "      <td>[0.37103486, 0.4609786, 0.40054914, 0.55449414...</td>\n",
       "    </tr>\n",
       "    <tr>\n",
       "      <th>96</th>\n",
       "      <td>2</td>\n",
       "      <td>[0.5197611, 0.5159052, 0.57987845, 0.5982913, ...</td>\n",
       "      <td>[0.42568812, 0.41413686, 0.41159162, 0.5551385...</td>\n",
       "    </tr>\n",
       "    <tr>\n",
       "      <th>97</th>\n",
       "      <td>2</td>\n",
       "      <td>[0.5599183, 0.46095458, 0.4788934, 0.5123849, ...</td>\n",
       "      <td>[0.36776042, 0.38429236, 0.36285537, 0.5079919...</td>\n",
       "    </tr>\n",
       "    <tr>\n",
       "      <th>98</th>\n",
       "      <td>2</td>\n",
       "      <td>[0.5076361, 0.5011982, 0.52952516, 0.51724523,...</td>\n",
       "      <td>[0.37531203, 0.3710489, 0.39397565, 0.55836743...</td>\n",
       "    </tr>\n",
       "    <tr>\n",
       "      <th>99</th>\n",
       "      <td>2</td>\n",
       "      <td>[0.5590618, 0.4652548, 0.5304877, 0.5920099, 0...</td>\n",
       "      <td>[0.3933041, 0.3745054, 0.38491708, 0.54385597,...</td>\n",
       "    </tr>\n",
       "  </tbody>\n",
       "</table>\n",
       "<p>100 rows × 3 columns</p>\n",
       "</div>"
      ],
      "text/plain": [
       "    context_var                                   time_series_col1  \\\n",
       "0             2  [0.5199467, 0.44614255, 0.5605779, 0.61748564,...   \n",
       "1             2  [0.52375543, 0.49376857, 0.571702, 0.59647495,...   \n",
       "2             2  [0.5537223, 0.44612423, 0.5534694, 0.44235688,...   \n",
       "3             2  [0.54556465, 0.5067076, 0.53900754, 0.6433268,...   \n",
       "4             2  [0.5280727, 0.51212806, 0.55282754, 0.48678616...   \n",
       "..          ...                                                ...   \n",
       "95            2  [0.5011872, 0.45941105, 0.60996777, 0.5618797,...   \n",
       "96            2  [0.5197611, 0.5159052, 0.57987845, 0.5982913, ...   \n",
       "97            2  [0.5599183, 0.46095458, 0.4788934, 0.5123849, ...   \n",
       "98            2  [0.5076361, 0.5011982, 0.52952516, 0.51724523,...   \n",
       "99            2  [0.5590618, 0.4652548, 0.5304877, 0.5920099, 0...   \n",
       "\n",
       "                                     time_series_col2  \n",
       "0   [0.3560219, 0.4248352, 0.39010537, 0.54013175,...  \n",
       "1   [0.37484938, 0.3898486, 0.3503686, 0.4478007, ...  \n",
       "2   [0.37444115, 0.42353788, 0.4217857, 0.5409928,...  \n",
       "3   [0.3973128, 0.3578704, 0.403728, 0.62896526, 0...  \n",
       "4   [0.40532577, 0.3838707, 0.3944916, 0.5150177, ...  \n",
       "..                                                ...  \n",
       "95  [0.37103486, 0.4609786, 0.40054914, 0.55449414...  \n",
       "96  [0.42568812, 0.41413686, 0.41159162, 0.5551385...  \n",
       "97  [0.36776042, 0.38429236, 0.36285537, 0.5079919...  \n",
       "98  [0.37531203, 0.3710489, 0.39397565, 0.55836743...  \n",
       "99  [0.3933041, 0.3745054, 0.38491708, 0.54385597,...  \n",
       "\n",
       "[100 rows x 3 columns]"
      ]
     },
     "execution_count": 14,
     "metadata": {},
     "output_type": "execute_result"
    }
   ],
   "source": [
    "data_generator.set_context(context_var=2)\n",
    "generated_df = data_generator.generate(n=100)\n",
    "generated_df"
   ]
  },
  {
   "cell_type": "markdown",
   "metadata": {},
   "source": [
    "# Model Evaluation\n",
    "\n",
    "The `Evaluator` class provides functionality to assess the quality of generated data compared to the original training data. It computes various metrics including:\n",
    "\n",
    "- Distribution similarity between real and generated data\n",
    "- Utility metrics\n",
    "- Context-FID\n",
    "\n",
    "To evaluate the trained model, we can use the `evaluate()` method of the `Trainer`. This method accepts:\n",
    "\n",
    "- A dataset to evaluate against (typically the training dataset)\n",
    "- Optional evaluation configuration parameters\n",
    "\n",
    "The evaluation results provide insights into how well the model captures the underlying data patterns and maintains the relationship with context variables.\n",
    "\n",
    "Let's run an evaluation on our trained model:"
   ]
  },
  {
   "cell_type": "code",
   "execution_count": 15,
   "metadata": {},
   "outputs": [
    {
     "name": "stderr",
     "output_type": "stream",
     "text": [
      "[EnData] Training Discriminative Score Model: 100%|██████████| 2000/2000 [00:17<00:00, 116.37it/s]\n",
      "[EnData] Training Predictive Score Model: 100%|██████████| 5000/5000 [00:48<00:00, 103.58it/s]\n"
     ]
    }
   ],
   "source": [
    "results = trainer.evaluate()\n",
    "metadata = results[\"metadata\"]\n",
    "metrics = results[\"metrics\"]"
   ]
  },
  {
   "cell_type": "code",
   "execution_count": 8,
   "metadata": {},
   "outputs": [
    {
     "data": {
      "text/plain": [
       "{'DTW': {'mean': np.float64(1.4436083177538586),\n",
       "  'std': np.float64(0.1508878089963357)},\n",
       " 'MMD': {'mean': np.float64(0.016698863591929142),\n",
       "  'std': np.float64(0.01052275694130357)},\n",
       " 'Context_FID': np.float64(4.310820975640927),\n",
       " 'Disc_Score': np.float64(0.44999999999999996),\n",
       " 'Pred_Score': 0.25146197870373727}"
      ]
     },
     "execution_count": 8,
     "metadata": {},
     "output_type": "execute_result"
    }
   ],
   "source": [
    "metrics"
   ]
  },
  {
   "cell_type": "code",
   "execution_count": null,
   "metadata": {},
   "outputs": [],
   "source": []
  }
 ],
 "metadata": {
  "kernelspec": {
   "display_name": "venv",
   "language": "python",
   "name": "python3"
  },
  "language_info": {
   "codemirror_mode": {
    "name": "ipython",
    "version": 3
   },
   "file_extension": ".py",
   "mimetype": "text/x-python",
   "name": "python",
   "nbconvert_exporter": "python",
   "pygments_lexer": "ipython3",
   "version": "3.9.5"
  },
  "orig_nbformat": 4,
  "vscode": {
   "interpreter": {
    "hash": "5ea03d6e3b6d6622a3c4a21d472827b30621b9677ee232f2748a7c51f6a29b0a"
   }
  }
 },
 "nbformat": 4,
 "nbformat_minor": 2
}
