{
 "cells": [
  {
   "cell_type": "code",
   "execution_count": null,
   "metadata": {},
   "outputs": [],
   "source": [
    "import sys\n",
    "from pathlib import Path\n",
    "\n",
    "script_dir = Path().resolve()\n",
    "root_dir = (script_dir.parent)\n",
    "sys.path.append(str(root_dir))\n",
    "\n",
    "from datasets.pecanstreet import PecanStreetDataManager\n",
    "from datasets.openpower import OpenPowerDataManager\n",
    "from generator.data_generator import DataGenerator"
   ]
  },
  {
   "cell_type": "code",
   "execution_count": null,
   "metadata": {},
   "outputs": [],
   "source": [
    "generator = DataGenerator(model_name=\"acgan\")\n",
    "dataset_manager = PecanStreetDataManager()\n",
    "dataset = dataset_manager.create_all_pv_user_dataset()\n",
    "generator.set_dataset(dataset)\n",
    "\n",
    "print(dataset_manager.get_conditioning_variables_integer_mapping())\n",
    "\n",
    "cond_vars = {\n",
    "    \"weekday\": 0,\n",
    "    \"month\": 0,\n",
    "    \"building_type\": 0,\n",
    "    \"city\": 0,\n",
    "    \"state\": 2,\n",
    "    \"house_construction_year\": 0,\n",
    "    \"total_square_footage\": 0,\n",
    "    \"car1\": 1,\n",
    "    \"has_solar\": 1,\n",
    "}\n",
    "\n",
    "generator.set_model_conditioning_vars(cond_vars)\n",
    "data = generator.generate(num_samples=2)"
   ]
  },
  {
   "cell_type": "code",
   "execution_count": null,
   "metadata": {},
   "outputs": [],
   "source": []
  }
 ],
 "metadata": {
  "kernelspec": {
   "display_name": "venv",
   "language": "python",
   "name": "python3"
  },
  "language_info": {
   "codemirror_mode": {
    "name": "ipython",
    "version": 3
   },
   "file_extension": ".py",
   "mimetype": "text/x-python",
   "name": "python",
   "nbconvert_exporter": "python",
   "pygments_lexer": "ipython3",
   "version": "3.9.5 (default, Nov 23 2021, 15:27:38) \n[GCC 9.3.0]"
  },
  "orig_nbformat": 4,
  "vscode": {
   "interpreter": {
    "hash": "5ea03d6e3b6d6622a3c4a21d472827b30621b9677ee232f2748a7c51f6a29b0a"
   }
  }
 },
 "nbformat": 4,
 "nbformat_minor": 2
}
