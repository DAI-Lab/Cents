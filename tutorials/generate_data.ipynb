{
 "cells": [
  {
   "cell_type": "code",
   "execution_count": null,
   "metadata": {},
   "outputs": [],
   "source": [
    "import sys\n",
    "from pathlib import Path\n",
    "\n",
    "script_dir = Path().resolve()\n",
    "root_dir = (script_dir.parent)\n",
    "sys.path.append(str(root_dir))\n",
    "\n",
    "from endata.data_generator import DataGenerator"
   ]
  },
  {
   "attachments": {},
   "cell_type": "markdown",
   "metadata": {},
   "source": [
    "## Creating a Data Generator and loading a pre-trained model ##\n",
    "\n",
    "The first step towards creating synthetic time series data is to load a model. In this instance, we will load a pre-trained ACGAN trained on the PecanStreet dataset. In order to do this, you will first need to initialize a data generator."
   ]
  },
  {
   "cell_type": "code",
   "execution_count": null,
   "metadata": {},
   "outputs": [],
   "source": [
    "generator = DataGenerator(model_name=\"acgan\")"
   ]
  },
  {
   "attachments": {},
   "cell_type": "markdown",
   "metadata": {},
   "source": [
    "The code snippet above initializes an untrained ACGAN. In order to load an appropriate pre-trained model checkpoint, you will need to explicitly load the model checkpoint provided:"
   ]
  },
  {
   "cell_type": "code",
   "execution_count": null,
   "metadata": {},
   "outputs": [],
   "source": [
    "generator.load_model(dataset_name=\"pecanstreet\")"
   ]
  },
  {
   "attachments": {},
   "cell_type": "markdown",
   "metadata": {},
   "source": [
    "## Generating synthetic data ##\n",
    "\n",
    "All pre-trained models in EnData are conditional generative models. This means that the user has to specify the conditions for which the generator generates data. To view the required conditioning variables, each TimeSeriesDataset instance (which includes the dataset classes supported by EnData) has a function that outputs the available conditioning variables and the corresponding integer codes:"
   ]
  },
  {
   "cell_type": "code",
   "execution_count": null,
   "metadata": {},
   "outputs": [],
   "source": [
    "conditioning_var_codes = generator.get_conditioning_var_codes()"
   ]
  },
  {
   "attachments": {},
   "cell_type": "markdown",
   "metadata": {},
   "source": [
    "We will now specify the desired conditions in a Python dictionary, and pass those to the data generator, along with the desired number of samples. The samples arg refers to the number of synthetic timeseries with the datasets specified sequence length that the model will generate. It does not refer to the number of measurement values."
   ]
  },
  {
   "cell_type": "code",
   "execution_count": null,
   "metadata": {},
   "outputs": [],
   "source": [
    "cond_vars = {\n",
    "    \"weekday\": 1, # Monday\n",
    "    \"month\": 2, # January\n",
    "    \"building_type\": 0, # Apartment\n",
    "    \"city\": 0, # Austin\n",
    "    \"state\": 2, # Texas\n",
    "    \"house_construction_year\": 3, # between 1969 and 2013\n",
    "    \"total_square_footage\": 0, # between 1070 and 2010 sq feet\n",
    "    \"car1\": 0, # no ev\n",
    "    \"has_solar\": 0, # no solar panels\n",
    "}\n",
    "\n",
    "generator.set_model_conditioning_vars(cond_vars)\n",
    "data = generator.generate(num_samples=2)\n",
    "data"
   ]
  },
  {
   "cell_type": "code",
   "execution_count": null,
   "metadata": {},
   "outputs": [],
   "source": [
    "import matplotlib.pyplot as plt\n",
    "import numpy as np\n",
    "import pandas as pd\n",
    "\n",
    "from eval.utils import get_hourly_ticks\n",
    "\n",
    "syn_data = generator.generate(num_samples=100)\n",
    "syn_data_array = np.array([ts.squeeze() for ts in syn_data[\"timeseries\"]])"
   ]
  },
  {
   "cell_type": "code",
   "execution_count": null,
   "metadata": {},
   "outputs": [],
   "source": [
    "timestamps = pd.date_range(start=\"00:00\", end=\"23:45\", freq=\"15min\")\n",
    "hourly_positions, hourly_labels = get_hourly_ticks(timestamps)\n",
    "f = plt.figure(figsize=(15, 7))\n",
    "for index in range(syn_data_array.shape[0]):\n",
    "    plt.plot(\n",
    "        range(len(timestamps)),\n",
    "        syn_data_array[index],\n",
    "        color=\"blue\",\n",
    "        marker=\"o\",\n",
    "        markersize=2,\n",
    "        linestyle=\"-\",\n",
    "        #label=\"Synthetic time series\",\n",
    "        alpha=0.6,\n",
    "    )\n",
    "plt.xlabel(\"Time of day\")\n",
    "plt.ylabel(\"Electric load in kWh\")\n",
    "plt.xticks(ticks=hourly_positions, labels=hourly_labels, rotation=45)\n",
    "plt.grid(True, which=\"both\", linestyle=\"--\", linewidth=0.5, alpha=0.7)\n",
    "plt.tight_layout()\n",
    "plt.show()"
   ]
  },
  {
   "cell_type": "code",
   "execution_count": null,
   "metadata": {},
   "outputs": [],
   "source": []
  }
 ],
 "metadata": {
  "kernelspec": {
   "display_name": "venv",
   "language": "python",
   "name": "python3"
  },
  "language_info": {
   "codemirror_mode": {
    "name": "ipython",
    "version": 3
   },
   "file_extension": ".py",
   "mimetype": "text/x-python",
   "name": "python",
   "nbconvert_exporter": "python",
   "pygments_lexer": "ipython3",
   "version": "3.9.5"
  },
  "orig_nbformat": 4,
  "vscode": {
   "interpreter": {
    "hash": "5ea03d6e3b6d6622a3c4a21d472827b30621b9677ee232f2748a7c51f6a29b0a"
   }
  }
 },
 "nbformat": 4,
 "nbformat_minor": 2
}
