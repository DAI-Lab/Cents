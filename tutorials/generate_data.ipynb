{
 "cells": [
  {
   "cell_type": "code",
   "execution_count": 1,
   "metadata": {},
   "outputs": [
    {
     "name": "stderr",
     "output_type": "stream",
     "text": [
      "2024-11-18 06:00:25.877593: E external/local_xla/xla/stream_executor/cuda/cuda_fft.cc:485] Unable to register cuFFT factory: Attempting to register factory for plugin cuFFT when one has already been registered\n",
      "2024-11-18 06:00:25.891657: E external/local_xla/xla/stream_executor/cuda/cuda_dnn.cc:8454] Unable to register cuDNN factory: Attempting to register factory for plugin cuDNN when one has already been registered\n",
      "2024-11-18 06:00:25.896101: E external/local_xla/xla/stream_executor/cuda/cuda_blas.cc:1452] Unable to register cuBLAS factory: Attempting to register factory for plugin cuBLAS when one has already been registered\n",
      "2024-11-18 06:00:25.906770: I tensorflow/core/platform/cpu_feature_guard.cc:210] This TensorFlow binary is optimized to use available CPU instructions in performance-critical operations.\n",
      "To enable the following instructions: AVX2 AVX512F FMA, in other operations, rebuild TensorFlow with the appropriate compiler flags.\n",
      "2024-11-18 06:00:26.623060: W tensorflow/compiler/tf2tensorrt/utils/py_utils.cc:38] TF-TRT Warning: Could not find TensorRT\n",
      "/home/fuest/EnData/venv/lib/python3.9/site-packages/tqdm/auto.py:21: TqdmWarning: IProgress not found. Please update jupyter and ipywidgets. See https://ipywidgets.readthedocs.io/en/stable/user_install.html\n",
      "  from .autonotebook import tqdm as notebook_tqdm\n"
     ]
    }
   ],
   "source": [
    "import sys\n",
    "from pathlib import Path\n",
    "\n",
    "script_dir = Path().resolve()\n",
    "root_dir = (script_dir.parent)\n",
    "sys.path.append(str(root_dir))\n",
    "\n",
    "from datasets.pecanstreet import PecanStreet\n",
    "from datasets.openpower import OpenPower\n",
    "from generator.data_generator import DataGenerator"
   ]
  },
  {
   "attachments": {},
   "cell_type": "markdown",
   "metadata": {},
   "source": [
    "## Creating a Data Generator and loading a pre-trained model ##\n",
    "\n",
    "The first step towards creating synthetic time series data is to load a model. In this instance, we will load a pre-trained ACGAN trained on the PecanStreet dataset. In order to do this, you will first need to initialize a data generator, and set the data generator's dataset to the PecanStreet Dataset."
   ]
  },
  {
   "cell_type": "code",
   "execution_count": 2,
   "metadata": {},
   "outputs": [],
   "source": [
    "generator = DataGenerator(model_name=\"acgan\")\n",
    "dataset_manager = PecanStreet()\n",
    "dataset = dataset_manager.create_dataset()\n",
    "generator.set_dataset(dataset)"
   ]
  },
  {
   "attachments": {},
   "cell_type": "markdown",
   "metadata": {},
   "source": [
    "The code snippet above initializes an untrained ACGAN. In order to load an appropriate pre-trained model checkpoint, you will need to explicitly load the model checkpoint provided:"
   ]
  },
  {
   "cell_type": "code",
   "execution_count": 3,
   "metadata": {},
   "outputs": [
    {
     "name": "stdout",
     "output_type": "stream",
     "text": [
      "Loaded generator state.\n",
      "Loaded discriminator state.\n",
      "Loaded generator optimizer state.\n",
      "Loaded discriminator optimizer state.\n",
      "Loaded epoch number: 200\n",
      "ACGAN models moved to 0.\n"
     ]
    },
    {
     "name": "stderr",
     "output_type": "stream",
     "text": [
      "/home/fuest/EnData/generator/gan/acgan.py:415: FutureWarning: You are using `torch.load` with `weights_only=False` (the current default value), which uses the default pickle module implicitly. It is possible to construct malicious pickle data which will execute arbitrary code during unpickling (See https://github.com/pytorch/pytorch/blob/main/SECURITY.md#untrusted-models for more details). In a future release, the default value for `weights_only` will be flipped to `True`. This limits the functions that could be executed during unpickling. Arbitrary objects will no longer be allowed to be loaded via this mode unless they are explicitly allowlisted by the user via `torch.serialization.add_safe_globals`. We recommend you start setting `weights_only=True` for any use case where you don't have full control of the loaded file. Please open an issue on GitHub for any issues related to this experimental feature.\n",
      "  checkpoint = torch.load(path)\n"
     ]
    }
   ],
   "source": [
    "generator.load_model()"
   ]
  },
  {
   "attachments": {},
   "cell_type": "markdown",
   "metadata": {},
   "source": [
    "## Generating synthetic data ##\n",
    "\n",
    "All pre-trained models in EnData are conditional generative models. This means that the user has to specify the conditions for which the generator generates data. To view the required conditioning variables, each TimeSeriesDataset instance (which includes the dataset classes supported by EnData) has a function that outputs the available conditioning variables and the corresponding integer codes:"
   ]
  },
  {
   "cell_type": "code",
   "execution_count": 4,
   "metadata": {},
   "outputs": [
    {
     "name": "stdout",
     "output_type": "stream",
     "text": [
      "{'weekday': {0: 'Monday', 1: 'Tuesday', 2: 'Wednesday', 3: 'Thursday', 4: 'Friday', 5: 'Saturday', 6: 'Sunday'}, 'month': {0: 'January', 1: 'February', 2: 'March', 3: 'April', 4: 'May', 5: 'June', 6: 'July', 7: 'August', 8: 'September', 9: 'October', 10: 'November', 11: 'December'}, 'building_type': {0: 'Apartment', 1: 'Single-Family Home 001 (Master)', 2: 'Town Home'}, 'city': {0: 'Austin', 1: 'Brooktondale', 2: 'Groton', 3: 'Ithaca', 4: 'Lansing', 5: 'San Diego', 6: 'Trumansburg'}, 'state': {0: 'California', 1: 'New York', 2: 'Texas'}, 'house_construction_year': {0: '(1796.7830000000001, 1840.2]', 1: '(1840.2, 1883.4]', 2: '(1883.4, 1926.6]', 3: '(1926.6, 1969.8]', 4: '(1969.8, 2013.0]'}, 'total_square_footage': {0: '(1070.324, 2010.0]', 1: '(2010.0, 2945.0]', 2: '(2945.0, 3880.0]', 3: '(3880.0, 4815.0]', 4: '(4815.0, 5750.0]'}, 'car1': {0: 'no', 1: 'yes'}, 'has_solar': {0: 'no', 1: 'yes'}}\n"
     ]
    }
   ],
   "source": [
    "print(dataset_manager.get_conditioning_variables_integer_mapping())"
   ]
  },
  {
   "attachments": {},
   "cell_type": "markdown",
   "metadata": {},
   "source": [
    "We will now specify the desired conditions in a Python dictionary, and pass those to the data generator, along with the desired number of samples. The samples arg refers to the number of synthetic timeseries with the datasets specified sequence length that the model will generate. It does not refer to the number of measurement values."
   ]
  },
  {
   "cell_type": "code",
   "execution_count": 5,
   "metadata": {},
   "outputs": [
    {
     "ename": "AttributeError",
     "evalue": "'PecanStreetDataset' object has no attribute 'get_conditioning_variables_integer_mapping'",
     "output_type": "error",
     "traceback": [
      "\u001b[0;31m---------------------------------------------------------------------------\u001b[0m",
      "\u001b[0;31mAttributeError\u001b[0m                            Traceback (most recent call last)",
      "Cell \u001b[0;32mIn[5], line 14\u001b[0m\n\u001b[1;32m      1\u001b[0m cond_vars \u001b[39m=\u001b[39m {\n\u001b[1;32m      2\u001b[0m     \u001b[39m\"\u001b[39m\u001b[39mweekday\u001b[39m\u001b[39m\"\u001b[39m: \u001b[39m0\u001b[39m, \u001b[39m# Monday\u001b[39;00m\n\u001b[1;32m      3\u001b[0m     \u001b[39m\"\u001b[39m\u001b[39mmonth\u001b[39m\u001b[39m\"\u001b[39m: \u001b[39m0\u001b[39m, \u001b[39m# January\u001b[39;00m\n\u001b[0;32m   (...)\u001b[0m\n\u001b[1;32m     10\u001b[0m     \u001b[39m\"\u001b[39m\u001b[39mhas_solar\u001b[39m\u001b[39m\"\u001b[39m: \u001b[39m0\u001b[39m, \u001b[39m# no solar panels\u001b[39;00m\n\u001b[1;32m     11\u001b[0m }\n\u001b[1;32m     13\u001b[0m generator\u001b[39m.\u001b[39mset_model_conditioning_vars(cond_vars)\n\u001b[0;32m---> 14\u001b[0m data \u001b[39m=\u001b[39m generator\u001b[39m.\u001b[39;49mgenerate(num_samples\u001b[39m=\u001b[39;49m\u001b[39m2\u001b[39;49m)\n\u001b[1;32m     15\u001b[0m data\n",
      "File \u001b[0;32m~/EnData/generator/data_generator.py:156\u001b[0m, in \u001b[0;36mDataGenerator.generate\u001b[0;34m(self, num_samples)\u001b[0m\n\u001b[1;32m    151\u001b[0m \u001b[39mfor\u001b[39;00m var_name, code \u001b[39min\u001b[39;00m \u001b[39mself\u001b[39m\u001b[39m.\u001b[39mconditioning_var_buffer\u001b[39m.\u001b[39mitems():\n\u001b[1;32m    152\u001b[0m     conditioning_vars[var_name] \u001b[39m=\u001b[39m torch\u001b[39m.\u001b[39mfull(\n\u001b[1;32m    153\u001b[0m         (num_samples,), code, dtype\u001b[39m=\u001b[39mtorch\u001b[39m.\u001b[39mlong, device\u001b[39m=\u001b[39m\u001b[39mself\u001b[39m\u001b[39m.\u001b[39mcfg\u001b[39m.\u001b[39mdevice\n\u001b[1;32m    154\u001b[0m     )\n\u001b[0;32m--> 156\u001b[0m encoding \u001b[39m=\u001b[39m \u001b[39mself\u001b[39;49m\u001b[39m.\u001b[39;49mdataset\u001b[39m.\u001b[39;49mget_conditioning_variables_integer_mapping()\n\u001b[1;32m    160\u001b[0m data \u001b[39m=\u001b[39m \u001b[39mself\u001b[39m\u001b[39m.\u001b[39mmodel\u001b[39m.\u001b[39mgenerate(conditioning_vars)\n\u001b[1;32m    161\u001b[0m \u001b[39mreturn\u001b[39;00m convert_generated_data_to_df(data, \u001b[39mself\u001b[39m\u001b[39m.\u001b[39mconditioning_var_buffer)\n",
      "\u001b[0;31mAttributeError\u001b[0m: 'PecanStreetDataset' object has no attribute 'get_conditioning_variables_integer_mapping'"
     ]
    }
   ],
   "source": [
    "cond_vars = {\n",
    "    \"weekday\": 0, # Monday\n",
    "    \"month\": 0, # January\n",
    "    \"building_type\": 0, # Apartment\n",
    "    \"city\": 0, # Austin\n",
    "    \"state\": 2, # Texas\n",
    "    \"house_construction_year\": 4, # between 1969 and 2013\n",
    "    \"total_square_footage\": 0, # between 1070 and 2010 sq feet\n",
    "    \"car1\": 0, # no ev\n",
    "    \"has_solar\": 0, # no solar panels\n",
    "}\n",
    "\n",
    "generator.set_model_conditioning_vars(cond_vars)\n",
    "data = generator.generate(num_samples=2)\n",
    "data"
   ]
  },
  {
   "cell_type": "code",
   "execution_count": null,
   "metadata": {},
   "outputs": [],
   "source": []
  }
 ],
 "metadata": {
  "kernelspec": {
   "display_name": "venv",
   "language": "python",
   "name": "python3"
  },
  "language_info": {
   "codemirror_mode": {
    "name": "ipython",
    "version": 3
   },
   "file_extension": ".py",
   "mimetype": "text/x-python",
   "name": "python",
   "nbconvert_exporter": "python",
   "pygments_lexer": "ipython3",
   "version": "3.9.5"
  },
  "orig_nbformat": 4,
  "vscode": {
   "interpreter": {
    "hash": "5ea03d6e3b6d6622a3c4a21d472827b30621b9677ee232f2748a7c51f6a29b0a"
   }
  }
 },
 "nbformat": 4,
 "nbformat_minor": 2
}
